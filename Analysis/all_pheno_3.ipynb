{
 "cells": [
  {
   "cell_type": "code",
   "execution_count": 1,
   "metadata": {},
   "outputs": [],
   "source": [
    "import pandas as pd\n",
    "import numpy as np\n",
    "import matplotlib.pyplot as plt\n",
    "import ast"
   ]
  },
  {
   "cell_type": "code",
   "execution_count": 2,
   "metadata": {},
   "outputs": [],
   "source": [
    "ts_pred = pd.read_csv('/data/wang/junh/results/Fuse_moe/all_pheno/TS_test_predictions.csv')\n",
    "text_pred = pd.read_csv('/data/wang/junh/results/Fuse_moe/all_pheno/Text_test_predictions.csv')\n",
    "cxr_pred = pd.read_csv('/data/wang/junh/results/Fuse_moe/all_pheno/CXR_test_predictions.csv')\n",
    "multi_pred = pd.read_csv('/data/wang/junh/results/Fuse_moe/all_pheno/TS_CXR_Text_test_predictions.csv')"
   ]
  },
  {
   "cell_type": "code",
   "execution_count": 3,
   "metadata": {},
   "outputs": [
    {
     "name": "stdout",
     "output_type": "stream",
     "text": [
      "<class 'pandas.core.frame.DataFrame'>\n",
      "RangeIndex: 5384 entries, 0 to 5383\n",
      "Data columns (total 4 columns):\n",
      " #   Column  Non-Null Count  Dtype \n",
      "---  ------  --------------  ----- \n",
      " 0   TS      5295 non-null   object\n",
      " 1   Text    5384 non-null   object\n",
      " 2   CXR     5384 non-null   object\n",
      " 3   Multi   5295 non-null   object\n",
      "dtypes: object(4)\n",
      "memory usage: 168.4+ KB\n",
      "None\n"
     ]
    }
   ],
   "source": [
    "all_pred = pd.DataFrame(data={\n",
    "        'TS': ts_pred['Predicted'],\n",
    "        'Text': text_pred['Predicted'],\n",
    "        'CXR': cxr_pred['Predicted'],\n",
    "        'Multi': multi_pred['Predicted'],\n",
    "    })\n",
    "print(all_pred.info())"
   ]
  },
  {
   "cell_type": "code",
   "execution_count": 4,
   "metadata": {},
   "outputs": [
    {
     "name": "stdout",
     "output_type": "stream",
     "text": [
      "<class 'pandas.core.frame.DataFrame'>\n",
      "Int64Index: 5295 entries, 0 to 5294\n",
      "Data columns (total 4 columns):\n",
      " #   Column  Non-Null Count  Dtype \n",
      "---  ------  --------------  ----- \n",
      " 0   TS      5295 non-null   object\n",
      " 1   Text    5295 non-null   object\n",
      " 2   CXR     5295 non-null   object\n",
      " 3   Multi   5295 non-null   object\n",
      "dtypes: object(4)\n",
      "memory usage: 206.8+ KB\n",
      "None\n"
     ]
    }
   ],
   "source": [
    "all_pred = all_pred.dropna()\n",
    "print(all_pred.info())"
   ]
  },
  {
   "cell_type": "code",
   "execution_count": 14,
   "metadata": {},
   "outputs": [
    {
     "name": "stdout",
     "output_type": "stream",
     "text": [
      "TS              (0, 0, 0, 0, 0, 1, 1, 0, 0, 0, 0, 0, 0, 0, 0, ...\n",
      "Text            (0, 0, 0, 0, 1, 0, 0, 0, 0, 0, 0, 0, 0, 0, 0, ...\n",
      "CXR             (0, 0, 0, 0, 0, 0, 0, 0, 0, 0, 0, 0, 0, 0, 0, ...\n",
      "Multi           (0, 0, 0, 0, 0, 1, 0, 0, 0, 0, 0, 0, 0, 0, 0, ...\n",
      "pid_labels      [R, R, R, R, Umaj, Umin, Umaj, R, R, R, R, R, ...\n",
      "voted_result                                                    R\n",
      "Name: 0, dtype: object\n"
     ]
    }
   ],
   "source": [
    "print(all_pred.iloc[0])"
   ]
  },
  {
   "cell_type": "code",
   "execution_count": 6,
   "metadata": {},
   "outputs": [],
   "source": [
    "def assign_pid(row):\n",
    "    labels = []\n",
    "    for ts, text, cxr, multi in zip(row['TS'], row['Text'], row['CXR'], row['Multi']):\n",
    "        if ts == 0 and text == 0 and cxr == 0 and multi == 0:\n",
    "            labels.append('R')\n",
    "        elif ts == 0 and text == 0 and cxr == 1 and multi == 0:\n",
    "            labels.append('Umaj')\n",
    "        elif ts == 0 and text == 1 and cxr == 0 and multi == 0:\n",
    "            labels.append('Umaj')\n",
    "        elif ts == 0 and text == 1 and cxr == 1 and multi == 0:\n",
    "            labels.append('Umin')\n",
    "        elif ts == 1 and text == 0 and cxr == 0 and multi == 0:\n",
    "            labels.append('Umaj')\n",
    "        elif ts == 1 and text == 0 and cxr == 1 and multi == 0:\n",
    "            labels.append('Umin')\n",
    "        elif ts == 1 and text == 1 and cxr == 0 and multi == 0:\n",
    "            labels.append('Umin')\n",
    "        elif ts == 1 and text == 1 and cxr == 1 and multi == 0:\n",
    "            labels.append('S')\n",
    "        elif ts == 0 and text == 0 and cxr == 0 and multi == 1:\n",
    "            labels.append('S')\n",
    "        elif ts == 0 and text == 0 and cxr == 1 and multi == 1:\n",
    "            labels.append('Umin')\n",
    "        elif ts == 0 and text == 1 and cxr == 0 and multi == 1:\n",
    "            labels.append('Umaj')\n",
    "        elif ts == 0 and text == 1 and cxr == 1 and multi == 1:\n",
    "            labels.append('Umaj')\n",
    "        elif ts == 1 and text == 0 and cxr == 0 and multi == 1:\n",
    "            labels.append('Umin')\n",
    "        elif ts == 1 and text == 0 and cxr == 1 and multi == 1:\n",
    "            labels.append('Umaj')\n",
    "        elif ts == 1 and text == 1 and cxr == 0 and multi == 1:\n",
    "            labels.append('Umin')\n",
    "        elif ts == 1 and text == 1 and cxr == 1 and multi == 1:\n",
    "            labels.append('R')\n",
    "        else:\n",
    "            labels.append(None)\n",
    "    return labels"
   ]
  },
  {
   "cell_type": "code",
   "execution_count": 7,
   "metadata": {},
   "outputs": [],
   "source": [
    "# Convert strings to tuples\n",
    "def convert_to_tuple(col):\n",
    "    return all_pred[col].apply(lambda x: ast.literal_eval(x))\n"
   ]
  },
  {
   "cell_type": "code",
   "execution_count": 8,
   "metadata": {},
   "outputs": [],
   "source": [
    "for col in ['TS', 'Text', 'CXR', 'Multi']:\n",
    "    all_pred[col] = convert_to_tuple(col)"
   ]
  },
  {
   "cell_type": "code",
   "execution_count": 9,
   "metadata": {},
   "outputs": [
    {
     "name": "stdout",
     "output_type": "stream",
     "text": [
      "                                                  TS  \\\n",
      "0  (0, 0, 0, 0, 0, 1, 1, 0, 0, 0, 0, 0, 0, 0, 0, ...   \n",
      "1  (1, 0, 0, 0, 1, 0, 1, 0, 1, 0, 1, 1, 0, 1, 0, ...   \n",
      "2  (1, 0, 0, 0, 1, 0, 1, 0, 1, 0, 1, 1, 0, 0, 0, ...   \n",
      "3  (0, 0, 0, 0, 0, 1, 0, 0, 0, 0, 0, 0, 0, 0, 0, ...   \n",
      "4  (0, 0, 0, 1, 0, 1, 1, 0, 1, 0, 0, 0, 0, 0, 0, ...   \n",
      "\n",
      "                                                Text  \\\n",
      "0  (0, 0, 0, 0, 1, 0, 0, 0, 0, 0, 0, 0, 0, 0, 0, ...   \n",
      "1  (0, 0, 0, 0, 0, 0, 0, 0, 0, 0, 1, 0, 0, 0, 0, ...   \n",
      "2  (1, 0, 0, 0, 1, 0, 0, 0, 0, 0, 0, 0, 0, 0, 0, ...   \n",
      "3  (0, 0, 0, 0, 0, 0, 0, 0, 0, 0, 0, 0, 0, 0, 0, ...   \n",
      "4  (0, 0, 0, 0, 1, 0, 0, 0, 0, 0, 1, 0, 0, 0, 0, ...   \n",
      "\n",
      "                                                 CXR  \\\n",
      "0  (0, 0, 0, 0, 0, 0, 0, 0, 0, 0, 0, 0, 0, 0, 0, ...   \n",
      "1  (0, 0, 0, 0, 0, 0, 0, 0, 0, 0, 0, 0, 0, 0, 0, ...   \n",
      "2  (0, 0, 0, 0, 0, 0, 0, 0, 0, 0, 0, 0, 0, 0, 0, ...   \n",
      "3  (0, 0, 0, 0, 0, 0, 0, 0, 0, 0, 0, 0, 0, 0, 0, ...   \n",
      "4  (0, 0, 0, 0, 0, 0, 0, 0, 0, 0, 0, 0, 0, 0, 0, ...   \n",
      "\n",
      "                                               Multi  \\\n",
      "0  (0, 0, 0, 0, 0, 1, 0, 0, 0, 0, 0, 0, 0, 0, 0, ...   \n",
      "1  (0, 0, 0, 0, 1, 0, 0, 0, 1, 0, 1, 1, 0, 1, 0, ...   \n",
      "2  (1, 0, 0, 0, 0, 0, 1, 0, 0, 0, 1, 0, 0, 0, 0, ...   \n",
      "3  (0, 0, 0, 0, 0, 1, 0, 0, 0, 0, 0, 0, 0, 0, 0, ...   \n",
      "4  (0, 0, 0, 1, 0, 1, 1, 0, 1, 0, 0, 0, 0, 0, 0, ...   \n",
      "\n",
      "                                          pid_labels  \n",
      "0  [R, R, R, R, Umaj, Umin, Umaj, R, R, R, R, R, ...  \n",
      "1  [Umaj, R, R, R, Umin, R, Umaj, R, Umin, R, Umi...  \n",
      "2  [Umin, R, R, R, Umin, R, Umin, R, Umaj, R, Umi...  \n",
      "3  [R, R, R, R, R, Umin, R, R, R, R, R, R, R, R, ...  \n",
      "4  [R, R, R, Umin, Umaj, Umin, Umin, R, Umin, R, ...  \n"
     ]
    }
   ],
   "source": [
    "# Extract the first label from the tuple and apply the assign_pid function\n",
    "all_pred['pid_labels'] = all_pred.apply(assign_pid, axis=1)\n",
    "\n",
    "print(all_pred.head())"
   ]
  },
  {
   "cell_type": "code",
   "execution_count": 10,
   "metadata": {},
   "outputs": [],
   "source": [
    "from collections import Counter\n",
    "def get_voted_result(labels):\n",
    "    label_counts = Counter(labels)\n",
    "    return label_counts.most_common(1)[0][0] if label_counts else None"
   ]
  },
  {
   "cell_type": "code",
   "execution_count": 17,
   "metadata": {},
   "outputs": [],
   "source": [
    "# Add voted result column\n",
    "all_pred['voted_result'] = all_pred['pid_labels'].apply(get_voted_result)"
   ]
  },
  {
   "cell_type": "code",
   "execution_count": 21,
   "metadata": {},
   "outputs": [
    {
     "data": {
      "text/plain": [
       "0       R\n",
       "1       R\n",
       "2       R\n",
       "3       R\n",
       "4       R\n",
       "       ..\n",
       "5290    R\n",
       "5291    R\n",
       "5292    R\n",
       "5293    R\n",
       "5294    R\n",
       "Name: voted_result, Length: 5295, dtype: object"
      ]
     },
     "execution_count": 21,
     "metadata": {},
     "output_type": "execute_result"
    }
   ],
   "source": [
    "all_pred['voted_result']"
   ]
  },
  {
   "cell_type": "code",
   "execution_count": 12,
   "metadata": {},
   "outputs": [
    {
     "name": "stdout",
     "output_type": "stream",
     "text": [
      "Counts Table:\n",
      "  voted_result  Count\n",
      "0            R   5293\n",
      "1         Umin      2\n"
     ]
    },
    {
     "data": {
      "image/png": "[encoded data removed]",
      "text/plain": [
       "<Figure size 720x432 with 1 Axes>"
      ]
     },
     "metadata": {
      "needs_background": "light"
     },
     "output_type": "display_data"
    }
   ],
   "source": [
    "# Calculate the counts for each PID category\n",
    "pid_counts = all_pred['voted_result'].value_counts()\n",
    "\n",
    "# Create a counts table\n",
    "counts_table = pid_counts.reset_index()\n",
    "counts_table.columns = ['voted_result', 'Count']\n",
    "\n",
    "# Display the counts table\n",
    "print(\"Counts Table:\")\n",
    "print(counts_table)\n",
    "\n",
    "# Plot the distribution\n",
    "plt.figure(figsize=(10, 6))\n",
    "pid_counts.plot(kind='bar')\n",
    "plt.title('Distribution of PID Categories', fontsize=16)\n",
    "plt.xlabel('PID Category', fontsize=14)\n",
    "plt.ylabel('Count', fontsize=14)\n",
    "plt.xticks(rotation=45, fontsize=12)\n",
    "plt.grid(axis='y', linestyle='--', alpha=0.7)\n",
    "plt.tight_layout()\n",
    "\n",
    "# Show the plot\n",
    "plt.show()"
   ]
  }
 ],
 "metadata": {
  "kernelspec": {
   "display_name": "fuse_env",
   "language": "python",
   "name": "python3"
  },
  "language_info": {
   "codemirror_mode": {
    "name": "ipython",
    "version": 3
   },
   "file_extension": ".py",
   "mimetype": "text/x-python",
   "name": "python",
   "nbconvert_exporter": "python",
   "pygments_lexer": "ipython3",
   "version": "3.8.19"
  }
 },
 "nbformat": 4,
 "nbformat_minor": 2
}
