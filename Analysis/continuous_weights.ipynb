{
 "cells": [
  {
   "cell_type": "code",
   "execution_count": 9,
   "metadata": {},
   "outputs": [],
   "source": [
    "import matplotlib.pyplot as plt\n",
    "import json\n",
    "import pickle\n",
    "import numpy as np\n",
    "import seaborn as sns\n",
    "import pandas as pd\n",
    "from itertools import combinations\n",
    "from numpy import dot\n",
    "from numpy.linalg import norm\n",
    "from scipy.stats import entropy\n",
    "from sklearn.metrics import mutual_info_score\n",
    "from ast import literal_eval\n",
    "import os\n",
    "from tqdm import tqdm"
   ]
  },
  {
   "cell_type": "code",
   "execution_count": 10,
   "metadata": {},
   "outputs": [],
   "source": [
    "def split_ids(id_string, n=8):\n",
    "    # Convert to string if the input is not already a string\n",
    "    id_string = str(id_string)\n",
    "    # Assuming the hadm_id and stay_id are concatenated as one string\n",
    "    # Convert hadm_id to float to match the format in the original dataset\n",
    "    hadm_id = float(id_string[:8])  # Convert first part to float\n",
    "    stay_id = int(id_string[8:])   # Convert remaining part to int\n",
    "    return hadm_id, stay_id"
   ]
  },
  {
   "cell_type": "code",
   "execution_count": 11,
   "metadata": {},
   "outputs": [],
   "source": [
    "datasets = ['train', 'val', 'test']\n",
    "PID_labels = ['R', 'O']  # This part was not used in the example provided\n",
    "\n",
    "mm_dir = \"/data/wang/junh/datasets/multimodal\"\n",
    "output_dir = os.path.join(mm_dir, \"multiclass/weights/\")"
   ]
  },
  {
   "cell_type": "markdown",
   "metadata": {},
   "source": [
    "- 4 modalities"
   ]
  },
  {
   "cell_type": "code",
   "execution_count": 12,
   "metadata": {},
   "outputs": [],
   "source": [
    "def assign_kl_4mods(ts_pred, text_pred, cxr_pred, ecg_pred, multi_pred, threshold=0.4):\n",
    "    # Assuming that each 'Probs' column contains lists of probabilities for the 4 classes\n",
    "    # Rename and merge data on 'ids'\n",
    "    df = ts_pred[['ids', 'Probs']].rename(columns={'Probs': 'ts'})\n",
    "    df = df.merge(text_pred[['ids', 'Probs']].rename(columns={'Probs': 'text'}), on='ids')\n",
    "    df = df.merge(cxr_pred[['ids', 'Probs']].rename(columns={'Probs': 'cxr'}), on='ids')\n",
    "    df = df.merge(ecg_pred[['ids', 'Probs']].rename(columns={'Probs': 'ecg'}), on='ids')\n",
    "    df = df.merge(multi_pred[['ids', 'Probs']].rename(columns={'Probs': 'Multi'}), on='ids')\n",
    "    for col in ['ts', 'text', 'cxr', 'ecg', 'Multi']:\n",
    "        df[col] = df[col].apply(lambda x: np.array(literal_eval(x)))\n",
    "\n",
    "    # Calculate KL divergence between each modality and the multimodal distribution\n",
    "    for modality in ['ts', 'text', 'cxr', \"ecg\"]:\n",
    "        df[f'kl_{modality}'] = df.apply(lambda row: entropy(row[modality], row['Multi']), axis=1)\n",
    "\n",
    "    #print(\"kl columns head: \\n\", df[['kl_ts', 'kl_text', 'kl_cxr', 'kl_ecg']].head())\n",
    "\n",
    "    return df"
   ]
  },
  {
   "cell_type": "code",
   "execution_count": 13,
   "metadata": {},
   "outputs": [],
   "source": [
    "def update_stays_with_weights(file_path, kl_scores):\n",
    "    with open(file_path, 'rb') as file:\n",
    "        stays_list = pickle.load(file)\n",
    "\n",
    "    match_count = 0\n",
    "    unmatched_ids = []\n",
    "\n",
    "    kl_id_set = set(kl_scores['ids'].astype(str))  # Ensure the IDs are treated as strings for consistent matching\n",
    "\n",
    "    for stay in stays_list:\n",
    "        for modality in ['ts', 'text', 'cxr', 'ecg']:\n",
    "            stay[f'{modality}_weight'] = 0\n",
    "        id_string = f\"{int(stay['hadm_id']):08d}{int(stay['stay_id'])}\"  # Format and pad ID as string if needed\n",
    "\n",
    "        if id_string in kl_id_set:\n",
    "            matching_row = kl_scores[kl_scores['ids'].astype(str) == id_string].iloc[0]\n",
    "            stay['ts_weights'] = matching_row['kl_ts']\n",
    "            stay['text_weights'] = matching_row['kl_text']\n",
    "            stay['cxr_weights'] = matching_row['kl_cxr']\n",
    "            stay['ecg_weights'] = matching_row['kl_ecg']\n",
    "            match_count += 1\n",
    "        else:\n",
    "            unmatched_ids.append(id_string)\n",
    "\n",
    "    with open(file_path, 'wb') as file:\n",
    "        pickle.dump(stays_list, file)\n",
    "        print(f\"Updated and saved {file_path}\")\n",
    "\n",
    "    print(f\"Matched {match_count} out of {len(stays_list)} records in {file_path}\")"
   ]
  },
  {
   "cell_type": "code",
   "execution_count": null,
   "metadata": {},
   "outputs": [
    {
     "name": "stdout",
     "output_type": "stream",
     "text": [
      "Starting los train dataset\n",
      "Updated and saved /data/wang/junh/datasets/multimodal/multiclass/weights/train_los-48-cxr-notes-ecg_stays.pkl\n",
      "Matched 3624 out of 3624 records in /data/wang/junh/datasets/multimodal/multiclass/weights/train_los-48-cxr-notes-ecg_stays.pkl\n",
      "Starting los val dataset\n",
      "Updated and saved /data/wang/junh/datasets/multimodal/multiclass/weights/val_los-48-cxr-notes-ecg_stays.pkl\n",
      "Matched 776 out of 777 records in /data/wang/junh/datasets/multimodal/multiclass/weights/val_los-48-cxr-notes-ecg_stays.pkl\n",
      "Starting los test dataset\n",
      "Updated and saved /data/wang/junh/datasets/multimodal/multiclass/weights/test_los-48-cxr-notes-ecg_stays.pkl\n",
      "Matched 776 out of 777 records in /data/wang/junh/datasets/multimodal/multiclass/weights/test_los-48-cxr-notes-ecg_stays.pkl\n"
     ]
    }
   ],
   "source": [
    "# Example usage: train_los-48-cxr-notes-ecg_stays.pkl\n",
    "for dataset in datasets:\n",
    "    print(f\"Starting los {dataset} dataset\")\n",
    "    ts_pred = pd.read_csv(f'/data/wang/junh/results/Fuse_moe/all_los/multiclass/TS_{dataset}_results.csv')\n",
    "    text_pred = pd.read_csv(f'/data/wang/junh/results/Fuse_moe/all_los/multiclass/Text_{dataset}_results.csv')\n",
    "    cxr_pred = pd.read_csv(f'/data/wang/junh/results/Fuse_moe/all_los/multiclass/CXR_{dataset}_results.csv')\n",
    "    ecg_pred = pd.read_csv(f'/data/wang/junh/results/Fuse_moe/all_los/multiclass/ECG_{dataset}_results.csv')\n",
    "    multi_pred = pd.read_csv(f'/data/wang/junh/results/Fuse_moe/all_los/multiclass/TS_CXR_Text_ECG_{dataset}_results.csv')\n",
    "\n",
    "    kl_scores = assign_kl_4mods(ts_pred, text_pred, cxr_pred, ecg_pred, multi_pred)\n",
    "    file_path = f'/data/wang/junh/datasets/multimodal/multiclass/dynamic_weights/{dataset}_los-48-cxr-notes-ecg_stays.pkl'\n",
    "    new_stays_list = update_stays_with_weights(file_path, kl_scores)"
   ]
  },
  {
   "cell_type": "markdown",
   "metadata": {},
   "source": [
    "# Initialize"
   ]
  },
  {
   "cell_type": "code",
   "execution_count": 4,
   "metadata": {},
   "outputs": [],
   "source": [
    "def initial_weights(file_path):\n",
    "    with open(file_path, 'rb') as file:\n",
    "        stays_list = pickle.load(file)\n",
    "\n",
    "    for stay in tqdm(stays_list):\n",
    "        # Initialize weights to 0 by default\n",
    "        for modality in ['ts', 'text', 'cxr', 'ecg']:\n",
    "            stay[f'{modality}_weight'] = 1\n",
    "\n",
    "    with open(file_path, 'wb') as file:\n",
    "        pickle.dump(stays_list, file)\n",
    "    print(f\"Updated and saved {file_path}\")"
   ]
  },
  {
   "cell_type": "code",
   "execution_count": 6,
   "metadata": {},
   "outputs": [
    {
     "name": "stdout",
     "output_type": "stream",
     "text": [
      "Starting los train dataset\n"
     ]
    },
    {
     "name": "stderr",
     "output_type": "stream",
     "text": [
      "100%|██████████| 3624/3624 [00:00<00:00, 577425.84it/s]\n"
     ]
    },
    {
     "name": "stdout",
     "output_type": "stream",
     "text": [
      "Updated and saved /data/wang/junh/datasets/multimodal/multiclass/dynamic_weights/train_los-48-cxr-notes-ecg_stays.pkl\n",
      "Starting los val dataset\n"
     ]
    },
    {
     "name": "stderr",
     "output_type": "stream",
     "text": [
      "100%|██████████| 777/777 [00:00<00:00, 394310.25it/s]\n"
     ]
    },
    {
     "name": "stdout",
     "output_type": "stream",
     "text": [
      "Updated and saved /data/wang/junh/datasets/multimodal/multiclass/dynamic_weights/val_los-48-cxr-notes-ecg_stays.pkl\n",
      "Starting los test dataset\n"
     ]
    },
    {
     "name": "stderr",
     "output_type": "stream",
     "text": [
      "100%|██████████| 777/777 [00:00<00:00, 514927.19it/s]\n"
     ]
    },
    {
     "name": "stdout",
     "output_type": "stream",
     "text": [
      "Updated and saved /data/wang/junh/datasets/multimodal/multiclass/dynamic_weights/test_los-48-cxr-notes-ecg_stays.pkl\n"
     ]
    }
   ],
   "source": [
    "# Example usage: train_los-48-cxr-notes-ecg_stays.pkl\n",
    "for dataset in datasets:\n",
    "    print(f\"Starting los {dataset} dataset\")\n",
    "\n",
    "    file_path = f'/data/wang/junh/datasets/multimodal/multiclass/dynamic_weights/{dataset}_los-48-cxr-notes-ecg_stays.pkl'\n",
    "    new_stays_list = initial_weights(file_path)"
   ]
  },
  {
   "cell_type": "markdown",
   "metadata": {},
   "source": [
    "# With Missing"
   ]
  },
  {
   "cell_type": "code",
   "execution_count": 7,
   "metadata": {},
   "outputs": [],
   "source": [
    "def assign_pid_4probs(ts_pred, text_pred, cxr_pred, ecg_pred, multi_pred):\n",
    "    # Merge predictions\n",
    "    df = ts_pred[['ids', 'Probs']].rename(columns={'Probs': 'ts'})\n",
    "    df = df.merge(text_pred[['ids', 'Probs']], on='ids', how='left').rename(columns={'Probs': 'text'})\n",
    "    df = df.merge(cxr_pred[['ids', 'Probs']], on='ids', how='left').rename(columns={'Probs': 'cxr'})\n",
    "    df = df.merge(ecg_pred[['ids', 'Probs']], on='ids', how='left').rename(columns={'Probs': 'ecg'})\n",
    "    df = df.merge(multi_pred[['ids', 'Probs']].rename(columns={'Probs': 'Multi'}), on='ids', how='left').dropna()\n",
    "\n",
    "    # Convert probability strings to arrays\n",
    "    modalities = ['ts', 'text', 'cxr', 'ecg', 'Multi']\n",
    "    for col in modalities:\n",
    "        df[col] = df[col].apply(lambda x: np.array(literal_eval(x)) if pd.notnull(x) else np.array([0]*4))  # Assuming 4 classes\n",
    "\n",
    "    # Initialize KL divergence columns with default 0\n",
    "    for modality in modalities[:-1]:  # Exclude 'Multi'\n",
    "        df[f'kl_{modality}'] = 0\n",
    "\n",
    "    # Calculate KL divergence where data is available\n",
    "    for modality in modalities[:-1]:\n",
    "        df[f'kl_{modality}'] = df.apply(lambda row: entropy(row[modality], row['Multi']) if np.sum(row[modality]) != 0 else 0, axis=1)\n",
    "\n",
    "    # Normalize KL divergence scores across the dataset\n",
    "    for modality in modalities[:-1]:\n",
    "        max_kl = df[f'kl_{modality}'].max()\n",
    "        min_kl = df[f'kl_{modality}'].min()\n",
    "        range_kl = max_kl - min_kl\n",
    "        if range_kl > 0:\n",
    "            df[f'kl_{modality}'] = (df[f'kl_{modality}'] - min_kl) / range_kl\n",
    "        else:\n",
    "            df[f'kl_{modality}'] = 0  # Avoid division by zero if all values are the same\n",
    "\n",
    "    return df"
   ]
  },
  {
   "cell_type": "code",
   "execution_count": 8,
   "metadata": {},
   "outputs": [],
   "source": [
    "def update_stays_with_weights(file_path, kl_scores):\n",
    "    with open(file_path, 'rb') as file:\n",
    "        stays_list = pickle.load(file)\n",
    "\n",
    "    match_count = 0\n",
    "\n",
    "    for stay in tqdm(stays_list):\n",
    "        # Initialize weights to 0 by default\n",
    "        for modality in ['ts', 'text', 'cxr', 'ecg']:\n",
    "            stay[f'{modality}_weight'] = 0\n",
    "\n",
    "        # Generate ID string\n",
    "        id_string = f\"{int(stay['hadm_id']):08d}{int(stay['stay_id'])}\"\n",
    "        \n",
    "        # Check for matching row in kl_scores\n",
    "        if id_string in kl_scores['ids'].astype(str).values:\n",
    "            matching_row = kl_scores[kl_scores['ids'].astype(str) == id_string].iloc[0]\n",
    "            \n",
    "            for modality in ['ts', 'text', 'cxr', 'ecg']:\n",
    "                if stay.get(f'{modality}_missing', 0) == 0:  # Check if the modality data is not missing\n",
    "                    stay[f'{modality}_weight'] = matching_row[f'kl_{modality}']\n",
    "            match_count += 1\n",
    "\n",
    "    with open(file_path, 'wb') as file:\n",
    "        pickle.dump(stays_list, file)\n",
    "    print(f\"Updated and saved {file_path}\")\n",
    "    print(f\"Matched {match_count} out of {len(stays_list)} records in {file_path}\")"
   ]
  },
  {
   "cell_type": "code",
   "execution_count": 6,
   "metadata": {},
   "outputs": [
    {
     "name": "stdout",
     "output_type": "stream",
     "text": [
      "Starting los train dataset\n",
      "number of ts_pred:  24590\n",
      "number of text_pred:  24590\n",
      "number of cxr_pred:  24590\n",
      "number of ecg_pred:  24590\n",
      "number of multi_pred:  24590\n"
     ]
    },
    {
     "name": "stderr",
     "output_type": "stream",
     "text": [
      "100%|██████████| 24591/24591 [06:33<00:00, 62.51it/s]\n"
     ]
    },
    {
     "name": "stdout",
     "output_type": "stream",
     "text": [
      "Updated and saved /data/wang/junh/datasets/multimodal/multiclass/dynamic_weights/train_los-48-cxr-notes-ecg-missingInd_stays.pkl\n",
      "Matched 24586 out of 24591 records in /data/wang/junh/datasets/multimodal/multiclass/dynamic_weights/train_los-48-cxr-notes-ecg-missingInd_stays.pkl\n",
      "Starting los val dataset\n",
      "number of ts_pred:  5264\n",
      "number of text_pred:  5264\n",
      "number of cxr_pred:  5264\n",
      "number of ecg_pred:  5264\n",
      "number of multi_pred:  5264\n"
     ]
    },
    {
     "name": "stderr",
     "output_type": "stream",
     "text": [
      "100%|██████████| 5270/5270 [00:19<00:00, 274.10it/s]\n"
     ]
    },
    {
     "name": "stdout",
     "output_type": "stream",
     "text": [
      "Updated and saved /data/wang/junh/datasets/multimodal/multiclass/dynamic_weights/val_los-48-cxr-notes-ecg-missingInd_stays.pkl\n",
      "Matched 5264 out of 5270 records in /data/wang/junh/datasets/multimodal/multiclass/dynamic_weights/val_los-48-cxr-notes-ecg-missingInd_stays.pkl\n",
      "Starting los test dataset\n",
      "number of ts_pred:  5264\n",
      "number of text_pred:  5264\n",
      "number of cxr_pred:  5264\n",
      "number of ecg_pred:  5264\n",
      "number of multi_pred:  5264\n"
     ]
    },
    {
     "name": "stderr",
     "output_type": "stream",
     "text": [
      "100%|██████████| 5270/5270 [00:20<00:00, 260.06it/s]\n"
     ]
    },
    {
     "name": "stdout",
     "output_type": "stream",
     "text": [
      "Updated and saved /data/wang/junh/datasets/multimodal/multiclass/dynamic_weights/test_los-48-cxr-notes-ecg-missingInd_stays.pkl\n",
      "Matched 5264 out of 5270 records in /data/wang/junh/datasets/multimodal/multiclass/dynamic_weights/test_los-48-cxr-notes-ecg-missingInd_stays.pkl\n"
     ]
    }
   ],
   "source": [
    "# Example usage: train_los-48-cxr-notes-ecg_stays.pkl\n",
    "for dataset in datasets:\n",
    "    print(f\"Starting los {dataset} dataset\")\n",
    "    ts_pred = pd.read_csv(f'/data/wang/junh/results/Fuse_moe/all_los/multiclass/missingInd/TS_{dataset}_results.csv')\n",
    "    print(\"number of ts_pred: \", len(ts_pred))\n",
    "    text_pred = pd.read_csv(f'/data/wang/junh/results/Fuse_moe/all_los/multiclass/missingInd/Text_{dataset}_results.csv')\n",
    "    print(\"number of text_pred: \", len(text_pred))\n",
    "    cxr_pred = pd.read_csv(f'/data/wang/junh/results/Fuse_moe/all_los/multiclass/missingInd/CXR_{dataset}_results.csv')\n",
    "    print(\"number of cxr_pred: \", len(cxr_pred))\n",
    "    ecg_pred = pd.read_csv(f'/data/wang/junh/results/Fuse_moe/all_los/multiclass/missingInd/ECG_{dataset}_results.csv')\n",
    "    print(\"number of ecg_pred: \", len(ecg_pred))\n",
    "    multi_pred = pd.read_csv(f'/data/wang/junh/results/Fuse_moe/all_los/multiclass/missingInd/TS_CXR_Text_ECG_{dataset}_results.csv')\n",
    "    print(\"number of multi_pred: \", len(multi_pred))\n",
    "\n",
    "    kl_scores = assign_pid_4probs(ts_pred, text_pred, cxr_pred, ecg_pred, multi_pred)\n",
    "    file_path = f'/data/wang/junh/datasets/multimodal/multiclass/dynamic_weights/{dataset}_los-48-cxr-notes-ecg-missingInd_stays.pkl'\n",
    "    new_stays_list = update_stays_with_weights(file_path, kl_scores)"
   ]
  },
  {
   "cell_type": "code",
   "execution_count": 10,
   "metadata": {},
   "outputs": [
    {
     "name": "stdout",
     "output_type": "stream",
     "text": [
      "5270\n"
     ]
    }
   ],
   "source": [
    "import pickle\n",
    "file_path = '/data/wang/junh/datasets/multimodal/multiclass/dynamic_weights/test_los-48-cxr-notes-ecg-missingInd_stays.pkl'\n",
    "with open(file_path, 'rb') as f:\n",
    "    train_stays_list = pickle.load(f)\n",
    "print(len(train_stays_list))"
   ]
  },
  {
   "cell_type": "code",
   "execution_count": 8,
   "metadata": {},
   "outputs": [
    {
     "data": {
      "text/plain": [
       "0.002675114417258665"
      ]
     },
     "execution_count": 8,
     "metadata": {},
     "output_type": "execute_result"
    }
   ],
   "source": [
    "train_stays_list[0]['ts_weight']"
   ]
  },
  {
   "cell_type": "code",
   "execution_count": 13,
   "metadata": {},
   "outputs": [
    {
     "name": "stdout",
     "output_type": "stream",
     "text": [
      "<class 'pandas.core.frame.DataFrame'>\n",
      "Int64Index: 5264 entries, 0 to 5263\n",
      "Data columns (total 10 columns):\n",
      " #   Column   Non-Null Count  Dtype  \n",
      "---  ------   --------------  -----  \n",
      " 0   ids      5264 non-null   int64  \n",
      " 1   ts       5264 non-null   object \n",
      " 2   text     5264 non-null   object \n",
      " 3   cxr      5264 non-null   object \n",
      " 4   ecg      5264 non-null   object \n",
      " 5   Multi    5264 non-null   object \n",
      " 6   kl_ts    5264 non-null   float64\n",
      " 7   kl_text  5264 non-null   float64\n",
      " 8   kl_cxr   5264 non-null   float64\n",
      " 9   kl_ecg   5264 non-null   float64\n",
      "dtypes: float64(4), int64(1), object(5)\n",
      "memory usage: 452.4+ KB\n"
     ]
    }
   ],
   "source": [
    "kl_scores = kl_scores.dropna()\n",
    "kl_scores.info()"
   ]
  },
  {
   "cell_type": "code",
   "execution_count": 15,
   "metadata": {},
   "outputs": [
    {
     "data": {
      "text/html": [
       "<div>\n",
       "<style scoped>\n",
       "    .dataframe tbody tr th:only-of-type {\n",
       "        vertical-align: middle;\n",
       "    }\n",
       "\n",
       "    .dataframe tbody tr th {\n",
       "        vertical-align: top;\n",
       "    }\n",
       "\n",
       "    .dataframe thead th {\n",
       "        text-align: right;\n",
       "    }\n",
       "</style>\n",
       "<table border=\"1\" class=\"dataframe\">\n",
       "  <thead>\n",
       "    <tr style=\"text-align: right;\">\n",
       "      <th></th>\n",
       "      <th>ids</th>\n",
       "      <th>ts</th>\n",
       "      <th>text</th>\n",
       "      <th>cxr</th>\n",
       "      <th>ecg</th>\n",
       "      <th>Multi</th>\n",
       "      <th>kl_ts</th>\n",
       "      <th>kl_text</th>\n",
       "      <th>kl_cxr</th>\n",
       "      <th>kl_ecg</th>\n",
       "    </tr>\n",
       "  </thead>\n",
       "  <tbody>\n",
       "    <tr>\n",
       "      <th>0</th>\n",
       "      <td>2480257938466097</td>\n",
       "      <td>[0.3502248525619507, 0.5153291821479797, 0.112...</td>\n",
       "      <td>[0.37129926681518555, 0.46344518661499023, 0.1...</td>\n",
       "      <td>[0.30412352085113525, 0.6616771221160889, 0.03...</td>\n",
       "      <td>[0.26731982827186584, 0.502354085445404, 0.170...</td>\n",
       "      <td>[0.3205856680870056, 0.5347868800163269, 0.113...</td>\n",
       "      <td>0.002675</td>\n",
       "      <td>0.008458</td>\n",
       "      <td>0.038272</td>\n",
       "      <td>0.013578</td>\n",
       "    </tr>\n",
       "    <tr>\n",
       "      <th>1</th>\n",
       "      <td>2642353037015935</td>\n",
       "      <td>[0.29364702105522156, 0.5780292749404907, 0.10...</td>\n",
       "      <td>[0.22132888436317444, 0.44253551959991455, 0.2...</td>\n",
       "      <td>[0.3352275490760803, 0.6318161487579346, 0.030...</td>\n",
       "      <td>[0.33013617992401123, 0.44948339462280273, 0.1...</td>\n",
       "      <td>[0.2819814085960388, 0.5675358772277832, 0.110...</td>\n",
       "      <td>0.002488</td>\n",
       "      <td>0.075768</td>\n",
       "      <td>0.039003</td>\n",
       "      <td>0.015176</td>\n",
       "    </tr>\n",
       "    <tr>\n",
       "      <th>2</th>\n",
       "      <td>2135896832114670</td>\n",
       "      <td>[0.622501790523529, 0.3498745262622833, 0.0233...</td>\n",
       "      <td>[0.5864822864532471, 0.36486706137657166, 0.04...</td>\n",
       "      <td>[0.32254672050476074, 0.6414607763290405, 0.03...</td>\n",
       "      <td>[0.26795363426208496, 0.4928421378135681, 0.17...</td>\n",
       "      <td>[0.6230888962745667, 0.3478187024593353, 0.024...</td>\n",
       "      <td>0.000000</td>\n",
       "      <td>0.004471</td>\n",
       "      <td>0.092890</td>\n",
       "      <td>0.224474</td>\n",
       "    </tr>\n",
       "    <tr>\n",
       "      <th>3</th>\n",
       "      <td>2621648034997302</td>\n",
       "      <td>[0.35394081473350525, 0.5282239317893982, 0.09...</td>\n",
       "      <td>[0.3747819662094116, 0.4641517400741577, 0.114...</td>\n",
       "      <td>[0.1926640272140503, 0.42354831099510193, 0.30...</td>\n",
       "      <td>[0.45571476221084595, 0.3739466965198517, 0.13...</td>\n",
       "      <td>[0.23463308811187744, 0.5592939853668213, 0.16...</td>\n",
       "      <td>0.040791</td>\n",
       "      <td>0.035767</td>\n",
       "      <td>0.041065</td>\n",
       "      <td>0.058726</td>\n",
       "    </tr>\n",
       "    <tr>\n",
       "      <th>4</th>\n",
       "      <td>2333589937101836</td>\n",
       "      <td>[0.5050340294837952, 0.4413596987724304, 0.044...</td>\n",
       "      <td>[0.585262656211853, 0.36553338170051575, 0.043...</td>\n",
       "      <td>[0.3049400746822357, 0.6621591448783875, 0.030...</td>\n",
       "      <td>[0.32884877920150757, 0.3949761986732483, 0.14...</td>\n",
       "      <td>[0.5684288144111633, 0.3895321488380432, 0.027...</td>\n",
       "      <td>0.010210</td>\n",
       "      <td>0.005155</td>\n",
       "      <td>0.078545</td>\n",
       "      <td>0.174203</td>\n",
       "    </tr>\n",
       "  </tbody>\n",
       "</table>\n",
       "</div>"
      ],
      "text/plain": [
       "                ids                                                 ts  \\\n",
       "0  2480257938466097  [0.3502248525619507, 0.5153291821479797, 0.112...   \n",
       "1  2642353037015935  [0.29364702105522156, 0.5780292749404907, 0.10...   \n",
       "2  2135896832114670  [0.622501790523529, 0.3498745262622833, 0.0233...   \n",
       "3  2621648034997302  [0.35394081473350525, 0.5282239317893982, 0.09...   \n",
       "4  2333589937101836  [0.5050340294837952, 0.4413596987724304, 0.044...   \n",
       "\n",
       "                                                text  \\\n",
       "0  [0.37129926681518555, 0.46344518661499023, 0.1...   \n",
       "1  [0.22132888436317444, 0.44253551959991455, 0.2...   \n",
       "2  [0.5864822864532471, 0.36486706137657166, 0.04...   \n",
       "3  [0.3747819662094116, 0.4641517400741577, 0.114...   \n",
       "4  [0.585262656211853, 0.36553338170051575, 0.043...   \n",
       "\n",
       "                                                 cxr  \\\n",
       "0  [0.30412352085113525, 0.6616771221160889, 0.03...   \n",
       "1  [0.3352275490760803, 0.6318161487579346, 0.030...   \n",
       "2  [0.32254672050476074, 0.6414607763290405, 0.03...   \n",
       "3  [0.1926640272140503, 0.42354831099510193, 0.30...   \n",
       "4  [0.3049400746822357, 0.6621591448783875, 0.030...   \n",
       "\n",
       "                                                 ecg  \\\n",
       "0  [0.26731982827186584, 0.502354085445404, 0.170...   \n",
       "1  [0.33013617992401123, 0.44948339462280273, 0.1...   \n",
       "2  [0.26795363426208496, 0.4928421378135681, 0.17...   \n",
       "3  [0.45571476221084595, 0.3739466965198517, 0.13...   \n",
       "4  [0.32884877920150757, 0.3949761986732483, 0.14...   \n",
       "\n",
       "                                               Multi     kl_ts   kl_text  \\\n",
       "0  [0.3205856680870056, 0.5347868800163269, 0.113...  0.002675  0.008458   \n",
       "1  [0.2819814085960388, 0.5675358772277832, 0.110...  0.002488  0.075768   \n",
       "2  [0.6230888962745667, 0.3478187024593353, 0.024...  0.000000  0.004471   \n",
       "3  [0.23463308811187744, 0.5592939853668213, 0.16...  0.040791  0.035767   \n",
       "4  [0.5684288144111633, 0.3895321488380432, 0.027...  0.010210  0.005155   \n",
       "\n",
       "     kl_cxr    kl_ecg  \n",
       "0  0.038272  0.013578  \n",
       "1  0.039003  0.015176  \n",
       "2  0.092890  0.224474  \n",
       "3  0.041065  0.058726  \n",
       "4  0.078545  0.174203  "
      ]
     },
     "execution_count": 15,
     "metadata": {},
     "output_type": "execute_result"
    }
   ],
   "source": [
    "kl_scores.head()"
   ]
  },
  {
   "cell_type": "code",
   "execution_count": 9,
   "metadata": {},
   "outputs": [
    {
     "data": {
      "image/png": "[encoded data removed]",
      "text/plain": [
       "<Figure size 720x432 with 1 Axes>"
      ]
     },
     "metadata": {
      "needs_background": "light"
     },
     "output_type": "display_data"
    }
   ],
   "source": [
    "import seaborn as sns\n",
    "import matplotlib.pyplot as plt\n",
    "\n",
    "# pivot the dataframe from long to wide form\n",
    "result = all_kl_scores[['ids', 'kl_ts', 'kl_text', 'kl_cxr', 'kl_ecg']]\n",
    "# Melting the DataFrame to make 'modality' as a variable and 'kl_values' as the value\n",
    "df_melted = result.melt(id_vars='ids', value_vars=['kl_ts', 'kl_text', 'kl_cxr', 'kl_ecg'], \n",
    "                    var_name='modality', value_name='kl_values')\n",
    "\n",
    "# Plotting the density plot for each modality\n",
    "plt.figure(figsize=(10, 6))\n",
    "sns.kdeplot(data=df_melted, x='kl_values', hue='modality', fill=True)\n",
    "plt.title('Density Plot of KL Divergence Values by Modality')\n",
    "plt.xlabel('KL Divergence')\n",
    "plt.ylabel('Density')\n",
    "plt.show()"
   ]
  },
  {
   "cell_type": "code",
   "execution_count": 10,
   "metadata": {},
   "outputs": [
    {
     "data": {
      "text/html": [
       "<div>\n",
       "<style scoped>\n",
       "    .dataframe tbody tr th:only-of-type {\n",
       "        vertical-align: middle;\n",
       "    }\n",
       "\n",
       "    .dataframe tbody tr th {\n",
       "        vertical-align: top;\n",
       "    }\n",
       "\n",
       "    .dataframe thead th {\n",
       "        text-align: right;\n",
       "    }\n",
       "</style>\n",
       "<table border=\"1\" class=\"dataframe\">\n",
       "  <thead>\n",
       "    <tr style=\"text-align: right;\">\n",
       "      <th></th>\n",
       "      <th>ids</th>\n",
       "      <th>kl_ts</th>\n",
       "      <th>kl_text</th>\n",
       "      <th>kl_cxr</th>\n",
       "      <th>kl_ecg</th>\n",
       "    </tr>\n",
       "  </thead>\n",
       "  <tbody>\n",
       "    <tr>\n",
       "      <th>count</th>\n",
       "      <td>3.511400e+04</td>\n",
       "      <td>35114.000000</td>\n",
       "      <td>35114.000000</td>\n",
       "      <td>35114.000000</td>\n",
       "      <td>35114.000000</td>\n",
       "    </tr>\n",
       "    <tr>\n",
       "      <th>mean</th>\n",
       "      <td>2.498875e+15</td>\n",
       "      <td>0.035396</td>\n",
       "      <td>0.149604</td>\n",
       "      <td>0.153483</td>\n",
       "      <td>0.150393</td>\n",
       "    </tr>\n",
       "    <tr>\n",
       "      <th>std</th>\n",
       "      <td>2.883322e+14</td>\n",
       "      <td>0.058031</td>\n",
       "      <td>0.137493</td>\n",
       "      <td>0.187456</td>\n",
       "      <td>0.158250</td>\n",
       "    </tr>\n",
       "    <tr>\n",
       "      <th>min</th>\n",
       "      <td>2.000081e+15</td>\n",
       "      <td>0.000000</td>\n",
       "      <td>0.000000</td>\n",
       "      <td>0.000000</td>\n",
       "      <td>0.000000</td>\n",
       "    </tr>\n",
       "    <tr>\n",
       "      <th>25%</th>\n",
       "      <td>2.249981e+15</td>\n",
       "      <td>0.007443</td>\n",
       "      <td>0.046113</td>\n",
       "      <td>0.030232</td>\n",
       "      <td>0.041309</td>\n",
       "    </tr>\n",
       "    <tr>\n",
       "      <th>50%</th>\n",
       "      <td>2.499293e+15</td>\n",
       "      <td>0.017649</td>\n",
       "      <td>0.104551</td>\n",
       "      <td>0.070577</td>\n",
       "      <td>0.088767</td>\n",
       "    </tr>\n",
       "    <tr>\n",
       "      <th>75%</th>\n",
       "      <td>2.747322e+15</td>\n",
       "      <td>0.038924</td>\n",
       "      <td>0.216213</td>\n",
       "      <td>0.197897</td>\n",
       "      <td>0.199394</td>\n",
       "    </tr>\n",
       "    <tr>\n",
       "      <th>max</th>\n",
       "      <td>2.999963e+15</td>\n",
       "      <td>1.000000</td>\n",
       "      <td>1.000000</td>\n",
       "      <td>1.000000</td>\n",
       "      <td>1.000000</td>\n",
       "    </tr>\n",
       "  </tbody>\n",
       "</table>\n",
       "</div>"
      ],
      "text/plain": [
       "                ids         kl_ts       kl_text        kl_cxr        kl_ecg\n",
       "count  3.511400e+04  35114.000000  35114.000000  35114.000000  35114.000000\n",
       "mean   2.498875e+15      0.035396      0.149604      0.153483      0.150393\n",
       "std    2.883322e+14      0.058031      0.137493      0.187456      0.158250\n",
       "min    2.000081e+15      0.000000      0.000000      0.000000      0.000000\n",
       "25%    2.249981e+15      0.007443      0.046113      0.030232      0.041309\n",
       "50%    2.499293e+15      0.017649      0.104551      0.070577      0.088767\n",
       "75%    2.747322e+15      0.038924      0.216213      0.197897      0.199394\n",
       "max    2.999963e+15      1.000000      1.000000      1.000000      1.000000"
      ]
     },
     "execution_count": 10,
     "metadata": {},
     "output_type": "execute_result"
    }
   ],
   "source": [
    "result.describe()"
   ]
  },
  {
   "cell_type": "code",
   "execution_count": 29,
   "metadata": {},
   "outputs": [
    {
     "data": {
      "image/png": "[encoded data removed]",
      "text/plain": [
       "<Figure size 1080x360 with 2 Axes>"
      ]
     },
     "metadata": {
      "needs_background": "light"
     },
     "output_type": "display_data"
    }
   ],
   "source": [
    "from pandas.plotting import parallel_coordinates\n",
    "\n",
    "result = all_kl_scores[['ids', 'kl_ts', 'kl_text', 'kl_cxr', 'kl_ecg']]\n",
    "\n",
    "result.set_index('ids', inplace=True)\n",
    "\n",
    "# Transposing the DataFrame so that modalities become rows and IDs become columns\n",
    "df_transposed = result.transpose()\n",
    "\n",
    "# Normalize or scale the data if necessary\n",
    "# df_transposed = (df_transposed - df_transposed.min()) / (df_transposed.max() - df_transposed.min())  # Uncomment if normalization is needed\n",
    "\n",
    "# Plotting the heatmap\n",
    "plt.figure(figsize=(15, 5))  # Adjust the figure size based on the actual number of IDs\n",
    "sns.heatmap(df_transposed, annot=False, cmap='viridis', cbar=True)\n",
    "plt.title('Heatmap of KL Divergence Values Across Modalities and IDs')\n",
    "plt.xlabel('IDs')\n",
    "plt.ylabel('Modalities')\n",
    "plt.show()"
   ]
  }
 ],
 "metadata": {
  "kernelspec": {
   "display_name": "fuse_env",
   "language": "python",
   "name": "python3"
  },
  "language_info": {
   "codemirror_mode": {
    "name": "ipython",
    "version": 3
   },
   "file_extension": ".py",
   "mimetype": "text/x-python",
   "name": "python",
   "nbconvert_exporter": "python",
   "pygments_lexer": "ipython3",
   "version": "3.8.19"
  }
 },
 "nbformat": 4,
 "nbformat_minor": 2
}
