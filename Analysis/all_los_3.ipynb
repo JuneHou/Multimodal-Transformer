{
 "cells": [
  {
   "cell_type": "code",
   "execution_count": 1,
   "metadata": {},
   "outputs": [],
   "source": [
    "import pandas as pd\n",
    "import numpy as np\n",
    "import matplotlib.pyplot as plt"
   ]
  },
  {
   "cell_type": "code",
   "execution_count": 2,
   "metadata": {},
   "outputs": [],
   "source": [
    "ts_pred = pd.read_csv('/data/wang/junh/results/Fuse_moe/all_los/TS_test_predictions.csv')\n",
    "text_pred = pd.read_csv('/data/wang/junh/results/Fuse_moe/all_los/Text_test_predictions.csv')\n",
    "cxr_pred = pd.read_csv('/data/wang/junh/results/Fuse_moe/all_los/CXR_test_predictions.csv')\n",
    "multi_pred = pd.read_csv('/data/wang/junh/results/Fuse_moe/all_los/TS_CXR_Text_test_predictions.csv')"
   ]
  },
  {
   "cell_type": "code",
   "execution_count": 13,
   "metadata": {},
   "outputs": [
    {
     "name": "stdout",
     "output_type": "stream",
     "text": [
      "   TS  Text  CXR  Multi\n",
      "0   1     0    1      0\n",
      "1   1     0    1      1\n",
      "2   1     1    0      1\n",
      "3   1     1    0      1\n",
      "4   1     1    1      1\n"
     ]
    }
   ],
   "source": [
    "all_pred = pd.DataFrame(data={\n",
    "        'TS': ts_pred['Predicted'],\n",
    "        'Text': text_pred['Predicted'],\n",
    "        'CXR': cxr_pred['Predicted'],\n",
    "        'Multi': multi_pred['Predicted'],\n",
    "    })\n",
    "print(all_pred.head())"
   ]
  },
  {
   "cell_type": "code",
   "execution_count": 14,
   "metadata": {},
   "outputs": [],
   "source": [
    "# Define a function to assign PID based on the rules\n",
    "def assign_pid(row):\n",
    "    if row['TS'] == 0 and row['Text'] == 0 and row['CXR'] == 0 and row['Multi'] == 0:\n",
    "        return 'R'\n",
    "    elif row['TS'] == 0 and row['Text'] == 0 and row['CXR'] == 1 and row['Multi'] == 0:\n",
    "        return 'Umaj'\n",
    "    elif row['TS'] == 0 and row['Text'] == 1 and row['CXR'] == 0 and row['Multi'] == 0:\n",
    "        return 'Umaj'\n",
    "    elif row['TS'] == 0 and row['Text'] == 1 and row['CXR'] == 1 and row['Multi'] == 0:\n",
    "        return 'Umin'\n",
    "    elif row['TS'] == 1 and row['Text'] == 0 and row['CXR'] == 0 and row['Multi'] == 0:\n",
    "        return 'Umaj'\n",
    "    elif row['TS'] == 1 and row['Text'] == 0 and row['CXR'] == 1 and row['Multi'] == 0:\n",
    "        return 'Umin'\n",
    "    elif row['TS'] == 1 and row['Text'] == 1 and row['CXR'] == 0 and row['Multi'] == 0:\n",
    "        return 'Umin'\n",
    "    elif row['TS'] == 1 and row['Text'] == 1 and row['CXR'] == 1 and row['Multi'] == 0:\n",
    "        return 'S'\n",
    "    elif row['TS'] == 0 and row['Text'] == 0 and row['CXR'] == 0 and row['Multi'] == 1:\n",
    "        return 'S'\n",
    "    elif row['TS'] == 0 and row['Text'] == 0 and row['CXR'] == 1 and row['Multi'] == 1:\n",
    "        return 'Umin'\n",
    "    elif row['TS'] == 0 and row['Text'] == 1 and row['CXR'] == 0 and row['Multi'] == 1:\n",
    "        return 'Umaj'\n",
    "    elif row['TS'] == 0 and row['Text'] == 1 and row['CXR'] == 1 and row['Multi'] == 1:\n",
    "        return 'Umaj'\n",
    "    elif row['TS'] == 1 and row['Text'] == 0 and row['CXR'] == 0 and row['Multi'] == 1:\n",
    "        return 'Umin'\n",
    "    elif row['TS'] == 1 and row['Text'] == 0 and row['CXR'] == 1 and row['Multi'] == 1:\n",
    "        return 'Umaj'\n",
    "    elif row['TS'] == 1 and row['Text'] == 1 and row['CXR'] == 0 and row['Multi'] == 1:\n",
    "        return 'Umin'\n",
    "    elif row['TS'] == 1 and row['Text'] == 1 and row['CXR'] == 1 and row['Multi'] == 1:\n",
    "        return 'R'\n",
    "    return None"
   ]
  },
  {
   "cell_type": "code",
   "execution_count": 16,
   "metadata": {},
   "outputs": [
    {
     "name": "stdout",
     "output_type": "stream",
     "text": [
      "   TS  Text  CXR  Multi   PID\n",
      "0   1     0    1      0  Umin\n",
      "1   1     0    1      1  Umaj\n",
      "2   1     1    0      1  Umin\n",
      "3   1     1    0      1  Umin\n",
      "4   1     1    1      1     R\n"
     ]
    }
   ],
   "source": [
    "# Apply the function to the DataFrame\n",
    "all_pred['PID'] = all_pred.apply(assign_pid, axis=1)\n",
    "\n",
    "print(all_pred.head())"
   ]
  },
  {
   "cell_type": "code",
   "execution_count": 17,
   "metadata": {},
   "outputs": [
    {
     "name": "stdout",
     "output_type": "stream",
     "text": [
      "Counts Table:\n",
      "    PID  Count\n",
      "0  Umin    266\n",
      "1     R    245\n",
      "2  Umaj    241\n",
      "3     S     24\n"
     ]
    },
    {
     "data": {
      "image/png": "[encoded data removed]",
      "text/plain": [
       "<Figure size 720x432 with 1 Axes>"
      ]
     },
     "metadata": {
      "needs_background": "light"
     },
     "output_type": "display_data"
    }
   ],
   "source": [
    "# Calculate the counts for each PID category\n",
    "pid_counts = all_pred['PID'].value_counts()\n",
    "\n",
    "# Create a counts table\n",
    "counts_table = pid_counts.reset_index()\n",
    "counts_table.columns = ['PID', 'Count']\n",
    "\n",
    "# Display the counts table\n",
    "print(\"Counts Table:\")\n",
    "print(counts_table)\n",
    "\n",
    "# Plot the distribution\n",
    "plt.figure(figsize=(10, 6))\n",
    "pid_counts.plot(kind='bar')\n",
    "plt.title('Distribution of PID Categories', fontsize=16)\n",
    "plt.xlabel('PID Category', fontsize=14)\n",
    "plt.ylabel('Count', fontsize=14)\n",
    "plt.xticks(rotation=45, fontsize=12)\n",
    "plt.grid(axis='y', linestyle='--', alpha=0.7)\n",
    "plt.tight_layout()\n",
    "\n",
    "# Show the plot\n",
    "plt.show()"
   ]
  }
 ],
 "metadata": {
  "kernelspec": {
   "display_name": "fuse_env",
   "language": "python",
   "name": "python3"
  },
  "language_info": {
   "codemirror_mode": {
    "name": "ipython",
    "version": 3
   },
   "file_extension": ".py",
   "mimetype": "text/x-python",
   "name": "python",
   "nbconvert_exporter": "python",
   "pygments_lexer": "ipython3",
   "version": "3.8.19"
  }
 },
 "nbformat": 4,
 "nbformat_minor": 2
}
