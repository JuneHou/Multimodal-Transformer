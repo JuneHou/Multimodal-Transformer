{
 "cells": [
  {
   "cell_type": "code",
   "execution_count": 1,
   "metadata": {},
   "outputs": [],
   "source": [
    "import matplotlib.pyplot as plt\n",
    "import json\n",
    "import pickle\n",
    "import numpy as np\n",
    "import seaborn as sns\n",
    "import pandas as pd\n",
    "from itertools import combinations\n",
    "from numpy import dot\n",
    "from numpy.linalg import norm\n",
    "from scipy.stats import entropy\n",
    "from sklearn.metrics import mutual_info_score\n",
    "from ast import literal_eval\n"
   ]
  },
  {
   "cell_type": "code",
   "execution_count": 2,
   "metadata": {},
   "outputs": [],
   "source": [
    "def split_ids(id_string, n=8):\n",
    "    # Convert to string if the input is not already a string\n",
    "    id_string = str(id_string)\n",
    "    # Assuming the hadm_id and stay_id are concatenated as one string\n",
    "    # Convert hadm_id to float to match the format in the original dataset\n",
    "    hadm_id = float(id_string[:8])  # Convert first part to float\n",
    "    stay_id = int(id_string[8:])   # Convert remaining part to int\n",
    "    return hadm_id, stay_id"
   ]
  },
  {
   "cell_type": "code",
   "execution_count": 3,
   "metadata": {},
   "outputs": [],
   "source": [
    "def reform_pkl_ids(file_path, all_pred):\n",
    "    with open(file_path, 'rb') as f:\n",
    "        train_stays_list = pickle.load(f)\n",
    "    matched_list = []\n",
    "    for id_string in all_pred['ids']:\n",
    "        hadm_id, stay_id = split_ids(id_string)\n",
    "        for record in train_stays_list:\n",
    "            if float(record.get('hadm_id')) == hadm_id and int(record.get('stay_id')) == stay_id:\n",
    "                matched_list.append(record)\n",
    "    print(\"Matched list length: \", len(matched_list))\n",
    "    return matched_list"
   ]
  },
  {
   "cell_type": "markdown",
   "metadata": {},
   "source": [
    "# Multiclass LOS"
   ]
  },
  {
   "cell_type": "code",
   "execution_count": 23,
   "metadata": {},
   "outputs": [],
   "source": [
    "def assign_pid_4probs(ts_pred, text_pred, cxr_pred, ecg_pred, multi_pred, threshold=0.4):\n",
    "    # Assuming that each 'Probs' column contains lists of probabilities for the 4 classes\n",
    "    # Rename and merge data on 'ids'\n",
    "    df = ts_pred[['ids', 'Probs']].rename(columns={'Probs': 'TS'})\n",
    "    df = df.merge(text_pred[['ids', 'Probs']].rename(columns={'Probs': 'Text'}), on='ids')\n",
    "    df = df.merge(cxr_pred[['ids', 'Probs']].rename(columns={'Probs': 'CXR'}), on='ids')\n",
    "    df = df.merge(ecg_pred[['ids', 'Probs']].rename(columns={'Probs': 'ECG'}), on='ids')\n",
    "    df = df.merge(multi_pred[['ids', 'Probs']].rename(columns={'Probs': 'Multi'}), on='ids')\n",
    "    for col in ['TS', 'Text', 'CXR', 'ECG', 'Multi']:\n",
    "        df[col] = df[col].apply(lambda x: np.array(literal_eval(x)))\n",
    "    print(df.info())\n",
    "\n",
    "    # Calculate KL divergence between each modality and the multimodal distribution\n",
    "    for modality in ['TS', 'Text', 'CXR', 'ECG']:\n",
    "        df[f'kl_{modality}'] = df.apply(lambda row: entropy(row[modality], row['Multi']), axis=1)\n",
    "\n",
    "    # Define a function to assign PID labels based on KL divergence\n",
    "    def assign_pid_label(row):\n",
    "        if row['kl_TS'] < threshold and row['kl_Text'] < threshold and row['kl_CXR'] < threshold:\n",
    "            return 'R'\n",
    "        else:\n",
    "            return 'O'\n",
    "    # Apply the function to assign PID labels\n",
    "    df['pid_label'] = df.apply(assign_pid_label, axis=1)\n",
    "    print(\"Counts Table:\")\n",
    "    print(df['pid_label'].value_counts().reset_index(name='Count').rename(columns={'index': 'PID'}))\n",
    "\n",
    "    return df"
   ]
  },
  {
   "cell_type": "code",
   "execution_count": 24,
   "metadata": {},
   "outputs": [],
   "source": [
    "tasks = ['los']\n",
    "datasets = ['train', 'val', 'test']\n",
    "PID_labels = ['R', 'O']"
   ]
  },
  {
   "cell_type": "code",
   "execution_count": 30,
   "metadata": {},
   "outputs": [
    {
     "name": "stdout",
     "output_type": "stream",
     "text": [
      "Starting los train dataset\n",
      "<class 'pandas.core.frame.DataFrame'>\n",
      "Int64Index: 3624 entries, 0 to 3623\n",
      "Data columns (total 6 columns):\n",
      " #   Column  Non-Null Count  Dtype \n",
      "---  ------  --------------  ----- \n",
      " 0   ids     3624 non-null   int64 \n",
      " 1   TS      3624 non-null   object\n",
      " 2   Text    3624 non-null   object\n",
      " 3   CXR     3624 non-null   object\n",
      " 4   ECG     3624 non-null   object\n",
      " 5   Multi   3624 non-null   object\n",
      "dtypes: int64(1), object(5)\n",
      "memory usage: 198.2+ KB\n",
      "None\n",
      "Counts Table:\n",
      "  PID  Count\n",
      "0   O   2382\n",
      "1   R   1242\n",
      "Matched list length:  1242\n",
      "Finished los train R dataset\n",
      "Matched list length:  2382\n",
      "Finished los train O dataset\n",
      "Starting los val dataset\n",
      "<class 'pandas.core.frame.DataFrame'>\n",
      "Int64Index: 776 entries, 0 to 775\n",
      "Data columns (total 6 columns):\n",
      " #   Column  Non-Null Count  Dtype \n",
      "---  ------  --------------  ----- \n",
      " 0   ids     776 non-null    int64 \n",
      " 1   TS      776 non-null    object\n",
      " 2   Text    776 non-null    object\n",
      " 3   CXR     776 non-null    object\n",
      " 4   ECG     776 non-null    object\n",
      " 5   Multi   776 non-null    object\n",
      "dtypes: int64(1), object(5)\n",
      "memory usage: 42.4+ KB\n",
      "None\n",
      "Counts Table:\n",
      "  PID  Count\n",
      "0   O    506\n",
      "1   R    270\n",
      "Matched list length:  270\n",
      "Finished los val R dataset\n",
      "Matched list length:  506\n",
      "Finished los val O dataset\n",
      "Starting los test dataset\n",
      "<class 'pandas.core.frame.DataFrame'>\n",
      "Int64Index: 776 entries, 0 to 775\n",
      "Data columns (total 6 columns):\n",
      " #   Column  Non-Null Count  Dtype \n",
      "---  ------  --------------  ----- \n",
      " 0   ids     776 non-null    int64 \n",
      " 1   TS      776 non-null    object\n",
      " 2   Text    776 non-null    object\n",
      " 3   CXR     776 non-null    object\n",
      " 4   ECG     776 non-null    object\n",
      " 5   Multi   776 non-null    object\n",
      "dtypes: int64(1), object(5)\n",
      "memory usage: 42.4+ KB\n",
      "None\n",
      "Counts Table:\n",
      "  PID  Count\n",
      "0   O    515\n",
      "1   R    261\n",
      "Matched list length:  261\n",
      "Finished los test R dataset\n",
      "Matched list length:  515\n",
      "Finished los test O dataset\n"
     ]
    }
   ],
   "source": [
    "for task in tasks:\n",
    "    for dataset in datasets:\n",
    "        print(f\"Starting {task} {dataset} dataset\")\n",
    "        ts_pred = pd.read_csv(f'/data/wang/junh/results/Fuse_moe/all_{task}/multiclass/TS_{dataset}_results.csv')\n",
    "        text_pred = pd.read_csv(f'/data/wang/junh/results/Fuse_moe/all_{task}/multiclass/Text_{dataset}_results.csv')\n",
    "        cxr_pred = pd.read_csv(f'/data/wang/junh/results/Fuse_moe/all_{task}/multiclass/CXR_{dataset}_results.csv')\n",
    "        ecg_pred = pd.read_csv(f'/data/wang/junh/results/Fuse_moe/all_{task}/multiclass/ECG_{dataset}_results.csv')\n",
    "        multi_pred = pd.read_csv(f'/data/wang/junh/results/Fuse_moe/all_{task}/multiclass/TS_CXR_Text_ECG_{dataset}_results.csv')\n",
    "\n",
    "        all_pred = assign_pid_4probs(ts_pred, text_pred, cxr_pred, ecg_pred, multi_pred)\n",
    "        file_path = f'/data/wang/junh/datasets/multimodal/multiclass/{dataset}_{task}-48-cxr-notes-ecg_stays.pkl'\n",
    "\n",
    "        for PID_label in PID_labels:\n",
    "            all_pred_PID = all_pred[all_pred['pid_label'] == PID_label]\n",
    "            new_pkl = reform_pkl_ids(file_path, all_pred_PID)\n",
    "            \n",
    "            f_path = f'/data/wang/junh/datasets/multimodal/multiclass/{dataset}_{task}_{PID_label}_stays.pkl'\n",
    "            with open(f_path, 'wb') as f:\n",
    "                pickle.dump(new_pkl, f)\n",
    "            print(f\"Finished {task} {dataset} {PID_label} dataset\")"
   ]
  },
  {
   "cell_type": "markdown",
   "metadata": {},
   "source": [
    "- 4 modalities"
   ]
  },
  {
   "cell_type": "code",
   "execution_count": 4,
   "metadata": {},
   "outputs": [],
   "source": [
    "import os\n",
    "datasets = ['train', 'val', 'test']\n",
    "PID_labels = ['R', 'O']  # This part was not used in the example provided\n",
    "\n",
    "mm_dir = \"/data/wang/junh/datasets/multimodal\"\n",
    "output_dir = os.path.join(mm_dir, \"multiclass/weights/\")"
   ]
  },
  {
   "cell_type": "code",
   "execution_count": 46,
   "metadata": {},
   "outputs": [],
   "source": [
    "def assign_pid_4probs(ts_pred, text_pred, cxr_pred, ecg_pred, multi_pred, threshold=0.4):\n",
    "    # Assuming that each 'Probs' column contains lists of probabilities for the 4 classes\n",
    "    # Rename and merge data on 'ids'\n",
    "    df = ts_pred[['ids', 'Probs']].rename(columns={'Probs': 'TS'})\n",
    "    df = df.merge(text_pred[['ids', 'Probs']].rename(columns={'Probs': 'Text'}), on='ids')\n",
    "    df = df.merge(cxr_pred[['ids', 'Probs']].rename(columns={'Probs': 'CXR'}), on='ids')\n",
    "    df = df.merge(ecg_pred[['ids', 'Probs']].rename(columns={'Probs': 'ECG'}), on='ids')\n",
    "    df = df.merge(multi_pred[['ids', 'Probs']].rename(columns={'Probs': 'Multi'}), on='ids')\n",
    "    for col in ['TS', 'Text', 'CXR', 'ECG', 'Multi']:\n",
    "        df[col] = df[col].apply(lambda x: np.array(literal_eval(x)))\n",
    "\n",
    "    # Calculate KL divergence between each modality and the multimodal distribution\n",
    "    for modality in ['TS', 'Text', 'CXR', \"ECG\"]:\n",
    "        df[f'kl_{modality}'] = df.apply(lambda row: entropy(row[modality], row['Multi']), axis=1)\n",
    "\n",
    "    #print(\"kl columns head: \\n\", df[['kl_TS', 'kl_Text', 'kl_CXR', 'kl_ECG']].head())\n",
    "\n",
    "    return df"
   ]
  },
  {
   "cell_type": "code",
   "execution_count": 43,
   "metadata": {},
   "outputs": [],
   "source": [
    "def update_stays_with_weights(file_path, kl_scores):\n",
    "    with open(file_path, 'rb') as file:\n",
    "        stays_list = pickle.load(file)\n",
    "\n",
    "    match_count = 0\n",
    "    unmatched_ids = []\n",
    "\n",
    "    kl_id_set = set(kl_scores['ids'].astype(str))  # Ensure the IDs are treated as strings for consistent matching\n",
    "\n",
    "    for stay in stays_list:\n",
    "        id_string = f\"{int(stay['hadm_id']):08d}{int(stay['stay_id'])}\"  # Format and pad ID as string if needed\n",
    "\n",
    "        if id_string in kl_id_set:\n",
    "            matching_row = kl_scores[kl_scores['ids'].astype(str) == id_string].iloc[0]\n",
    "            stay['TS_weights'] = matching_row['kl_TS']\n",
    "            stay['Text_weights'] = matching_row['kl_Text']\n",
    "            stay['CXR_weights'] = matching_row['kl_CXR']\n",
    "            stay['ECG_weights'] = matching_row['kl_ECG']\n",
    "            match_count += 1\n",
    "        else:\n",
    "            unmatched_ids.append(id_string)\n",
    "\n",
    "    with open(file_path, 'wb') as file:\n",
    "        pickle.dump(stays_list, file)\n",
    "        print(f\"Updated and saved {file_path}\")\n",
    "\n",
    "    print(f\"Matched {match_count} out of {len(stays_list)} records in {file_path}\")\n"
   ]
  },
  {
   "cell_type": "code",
   "execution_count": 47,
   "metadata": {},
   "outputs": [
    {
     "name": "stdout",
     "output_type": "stream",
     "text": [
      "Starting los train dataset\n",
      "Updated and saved /data/wang/junh/datasets/multimodal/multiclass/weights/train_los-48-cxr-notes-ecg_stays.pkl\n",
      "Matched 3624 out of 3624 records in /data/wang/junh/datasets/multimodal/multiclass/weights/train_los-48-cxr-notes-ecg_stays.pkl\n",
      "Starting los val dataset\n",
      "Updated and saved /data/wang/junh/datasets/multimodal/multiclass/weights/val_los-48-cxr-notes-ecg_stays.pkl\n",
      "Matched 776 out of 777 records in /data/wang/junh/datasets/multimodal/multiclass/weights/val_los-48-cxr-notes-ecg_stays.pkl\n",
      "Unmatched IDs: ['2191547235543791']\n",
      "Starting los test dataset\n",
      "Updated and saved /data/wang/junh/datasets/multimodal/multiclass/weights/test_los-48-cxr-notes-ecg_stays.pkl\n",
      "Matched 776 out of 777 records in /data/wang/junh/datasets/multimodal/multiclass/weights/test_los-48-cxr-notes-ecg_stays.pkl\n",
      "Unmatched IDs: ['2731529235334124']\n"
     ]
    }
   ],
   "source": [
    "# Example usage: train_los-48-cxr-notes-ecg_stays.pkl\n",
    "for dataset in datasets:\n",
    "    print(f\"Starting los {dataset} dataset\")\n",
    "    ts_pred = pd.read_csv(f'/data/wang/junh/results/Fuse_moe/all_los/multiclass/TS_{dataset}_results.csv')\n",
    "    text_pred = pd.read_csv(f'/data/wang/junh/results/Fuse_moe/all_los/multiclass/Text_{dataset}_results.csv')\n",
    "    cxr_pred = pd.read_csv(f'/data/wang/junh/results/Fuse_moe/all_los/multiclass/CXR_{dataset}_results.csv')\n",
    "    ecg_pred = pd.read_csv(f'/data/wang/junh/results/Fuse_moe/all_los/multiclass/ECG_{dataset}_results.csv')\n",
    "    multi_pred = pd.read_csv(f'/data/wang/junh/results/Fuse_moe/all_los/multiclass/TS_CXR_Text_ECG_{dataset}_results.csv')\n",
    "\n",
    "    kl_scores = assign_pid_4probs(ts_pred, text_pred, cxr_pred, ecg_pred, multi_pred)\n",
    "    file_path = f'/data/wang/junh/datasets/multimodal/multiclass/weights/{dataset}_los-48-cxr-notes-ecg_stays.pkl'\n",
    "    new_stays_list = update_stays_with_weights(file_path, kl_scores)\n",
    "    "
   ]
  },
  {
   "cell_type": "markdown",
   "metadata": {},
   "source": [
    "- 3 modalities"
   ]
  },
  {
   "cell_type": "code",
   "execution_count": 26,
   "metadata": {},
   "outputs": [],
   "source": [
    "def assign_pid_3probs(ts_pred, text_pred, cxr_pred, multi_pred, threshold=0.4):\n",
    "    # Assuming that each 'Probs' column contains lists of probabilities for the 4 classes\n",
    "    # Rename and merge data on 'ids'\n",
    "    df = ts_pred[['ids', 'Probs']].rename(columns={'Probs': 'TS'})\n",
    "    df = df.merge(text_pred[['ids', 'Probs']].rename(columns={'Probs': 'Text'}), on='ids')\n",
    "    df = df.merge(cxr_pred[['ids', 'Probs']].rename(columns={'Probs': 'CXR'}), on='ids')\n",
    "    df = df.merge(multi_pred[['ids', 'Probs']].rename(columns={'Probs': 'Multi'}), on='ids')\n",
    "    for col in ['TS', 'Text', 'CXR', 'Multi']:\n",
    "        df[col] = df[col].apply(lambda x: np.array(literal_eval(x)))\n",
    "    print(df.info())\n",
    "\n",
    "    # Calculate KL divergence between each modality and the multimodal distribution\n",
    "    for modality in ['TS', 'Text', 'CXR']:\n",
    "        df[f'kl_{modality}'] = df.apply(lambda row: entropy(row[modality], row['Multi']), axis=1)\n",
    "\n",
    "    # Define a function to assign PID labels based on KL divergence\n",
    "    def assign_pid_label(row):\n",
    "        if row['kl_TS'] < threshold and row['kl_Text'] < threshold and row['kl_CXR'] < threshold:\n",
    "            return 'R'\n",
    "        else:\n",
    "            return 'O'\n",
    "    # Apply the function to assign PID labels\n",
    "    df['pid_label'] = df.apply(assign_pid_label, axis=1)\n",
    "    print(\"Counts Table:\")\n",
    "    print(df['pid_label'].value_counts().reset_index(name='Count').rename(columns={'index': 'PID'}))\n",
    "\n",
    "    return df\n"
   ]
  },
  {
   "cell_type": "code",
   "execution_count": 7,
   "metadata": {},
   "outputs": [
    {
     "name": "stdout",
     "output_type": "stream",
     "text": [
      "[0.5867819786071777, 0.35261470079421997, 0.05441955849528313, 0.006183713208884001]\n"
     ]
    }
   ],
   "source": [
    "multi_pred = pd.read_csv('/data/wang/junh/results/Fuse_moe/all_los/multiclass/TS_CXR_Text_val_results.csv')\n",
    "print(multi_pred['Probs'][0])"
   ]
  },
  {
   "cell_type": "code",
   "execution_count": 4,
   "metadata": {},
   "outputs": [],
   "source": [
    "tasks = ['los']\n",
    "datasets = ['train', 'val', 'test']\n",
    "PID_labels = ['R', 'O']"
   ]
  },
  {
   "cell_type": "code",
   "execution_count": 27,
   "metadata": {},
   "outputs": [
    {
     "name": "stdout",
     "output_type": "stream",
     "text": [
      "Starting los train dataset\n",
      "<class 'pandas.core.frame.DataFrame'>\n",
      "Int64Index: 3624 entries, 0 to 3623\n",
      "Data columns (total 5 columns):\n",
      " #   Column  Non-Null Count  Dtype \n",
      "---  ------  --------------  ----- \n",
      " 0   ids     3624 non-null   int64 \n",
      " 1   TS      3624 non-null   object\n",
      " 2   Text    3624 non-null   object\n",
      " 3   CXR     3624 non-null   object\n",
      " 4   Multi   3624 non-null   object\n",
      "dtypes: int64(1), object(4)\n",
      "memory usage: 169.9+ KB\n",
      "None\n",
      "Counts Table:\n",
      "  PID  Count\n",
      "0   O   2071\n",
      "1   R   1553\n",
      "Matched list length:  1553\n",
      "Finished los train R dataset\n",
      "Matched list length:  2071\n",
      "Finished los train O dataset\n",
      "Starting los val dataset\n",
      "<class 'pandas.core.frame.DataFrame'>\n",
      "Int64Index: 776 entries, 0 to 775\n",
      "Data columns (total 5 columns):\n",
      " #   Column  Non-Null Count  Dtype \n",
      "---  ------  --------------  ----- \n",
      " 0   ids     776 non-null    int64 \n",
      " 1   TS      776 non-null    object\n",
      " 2   Text    776 non-null    object\n",
      " 3   CXR     776 non-null    object\n",
      " 4   Multi   776 non-null    object\n",
      "dtypes: int64(1), object(4)\n",
      "memory usage: 36.4+ KB\n",
      "None\n",
      "Counts Table:\n",
      "  PID  Count\n",
      "0   O    398\n",
      "1   R    378\n",
      "Matched list length:  378\n",
      "Finished los val R dataset\n",
      "Matched list length:  398\n",
      "Finished los val O dataset\n",
      "Starting los test dataset\n",
      "<class 'pandas.core.frame.DataFrame'>\n",
      "Int64Index: 776 entries, 0 to 775\n",
      "Data columns (total 5 columns):\n",
      " #   Column  Non-Null Count  Dtype \n",
      "---  ------  --------------  ----- \n",
      " 0   ids     776 non-null    int64 \n",
      " 1   TS      776 non-null    object\n",
      " 2   Text    776 non-null    object\n",
      " 3   CXR     776 non-null    object\n",
      " 4   Multi   776 non-null    object\n",
      "dtypes: int64(1), object(4)\n",
      "memory usage: 36.4+ KB\n",
      "None\n",
      "Counts Table:\n",
      "  PID  Count\n",
      "0   R    391\n",
      "1   O    385\n",
      "Matched list length:  391\n",
      "Finished los test R dataset\n",
      "Matched list length:  385\n",
      "Finished los test O dataset\n"
     ]
    }
   ],
   "source": [
    "for task in tasks:\n",
    "    for dataset in datasets:\n",
    "        print(f\"Starting {task} {dataset} dataset\")\n",
    "        ts_pred = pd.read_csv(f'/data/wang/junh/results/Fuse_moe/all_{task}/multiclass/TS_{dataset}_results.csv')\n",
    "        text_pred = pd.read_csv(f'/data/wang/junh/results/Fuse_moe/all_{task}/multiclass/Text_{dataset}_results.csv')\n",
    "        cxr_pred = pd.read_csv(f'/data/wang/junh/results/Fuse_moe/all_{task}/multiclass/CXR_{dataset}_results.csv')\n",
    "        multi_pred = pd.read_csv(f'/data/wang/junh/results/Fuse_moe/all_{task}/multiclass/TS_CXR_Text_{dataset}_results.csv')\n",
    "\n",
    "        all_pred = assign_pid_3probs(ts_pred, text_pred, cxr_pred, multi_pred)\n",
    "        file_path = f'/data/wang/junh/datasets/multimodal/augmentation/multiclass/{dataset}_{task}-48-cxr-notes-ecg_stays.pkl'\n",
    "\n",
    "        for PID_label in PID_labels:\n",
    "            all_pred_PID = all_pred[all_pred['pid_label'] == PID_label]\n",
    "            new_pkl = reform_pkl_ids(file_path, all_pred_PID)\n",
    "            \n",
    "            f_path = f'/data/wang/junh/datasets/multimodal/augmentation/multiclass/continuous_pid/{dataset}_{task}_{PID_label}_stays.pkl'\n",
    "            with open(f_path, 'wb') as f:\n",
    "                pickle.dump(new_pkl, f)\n",
    "            print(f\"Finished {task} {dataset} {PID_label} dataset\")"
   ]
  },
  {
   "cell_type": "markdown",
   "metadata": {},
   "source": [
    "# 2 modalities"
   ]
  },
  {
   "cell_type": "code",
   "execution_count": 4,
   "metadata": {},
   "outputs": [],
   "source": [
    "def assign_pid_2probs(mod1_pred, mod2_pred, multi_pred, mod1_name, mod2_name, threshold=0.3):\n",
    "    # Merge predictions on 'ids', renaming to avoid column name conflicts\n",
    "    df = mod1_pred[['ids', 'Logits']].rename(columns={'Logits': mod1_name})\n",
    "    df = df.merge(mod2_pred[['ids', 'Logits']].rename(columns={'Logits': mod2_name}), on='ids')\n",
    "    df = df.merge(multi_pred[['ids', 'Logits']].rename(columns={'Logits': 'Multi'}), on='ids')\n",
    "\n",
    "    # Convert scalar probabilities to vectors of two probabilities\n",
    "    for column in df.columns:\n",
    "        if column != 'ids':\n",
    "            df[column] = df[column].apply(lambda p: np.array([p, 1 - p]))\n",
    "\n",
    "    # Calculate KL divergence between each modality and the multimodal distribution\n",
    "    for modality in [mod1_name, mod2_name]:\n",
    "        df[f'kl_{modality}'] = df.apply(lambda row: entropy(row[modality], row['Multi']), axis=1)\n",
    "\n",
    "    # Define a function to assign PID labels based on KL divergence\n",
    "    def assign_pid_label(row):\n",
    "        if row[f'kl_{mod1_name}'] < threshold and row[f'kl_{mod2_name}'] < threshold:\n",
    "            return 'R'\n",
    "        else:\n",
    "            return 'O'\n",
    "\n",
    "    # Apply the function to assign PID labels\n",
    "    df['pid_label'] = df.apply(assign_pid_label, axis=1)\n",
    "    return df"
   ]
  },
  {
   "cell_type": "markdown",
   "metadata": {},
   "source": [
    "- TS_Text"
   ]
  },
  {
   "cell_type": "code",
   "execution_count": 5,
   "metadata": {},
   "outputs": [],
   "source": [
    "tasks = ['ihm', 'los']\n",
    "datasets = ['train', 'val', 'test']\n",
    "PID_labels = ['R', 'O']"
   ]
  },
  {
   "cell_type": "code",
   "execution_count": 13,
   "metadata": {},
   "outputs": [
    {
     "name": "stdout",
     "output_type": "stream",
     "text": [
      "Starting ihm train dataset\n",
      "Matched list length:  2952\n",
      "Finished ihm train R dataset\n",
      "Matched list length:  672\n",
      "Finished ihm train O dataset\n",
      "Starting ihm val dataset\n",
      "Matched list length:  636\n",
      "Finished ihm val R dataset\n",
      "Matched list length:  140\n",
      "Finished ihm val O dataset\n",
      "Starting ihm test dataset\n",
      "Matched list length:  637\n",
      "Finished ihm test R dataset\n",
      "Matched list length:  139\n",
      "Finished ihm test O dataset\n",
      "Starting los train dataset\n",
      "Matched list length:  1823\n",
      "Finished los train R dataset\n",
      "Matched list length:  1801\n",
      "Finished los train O dataset\n",
      "Starting los val dataset\n",
      "Matched list length:  355\n",
      "Finished los val R dataset\n",
      "Matched list length:  421\n",
      "Finished los val O dataset\n",
      "Starting los test dataset\n",
      "Matched list length:  342\n",
      "Finished los test R dataset\n",
      "Matched list length:  434\n",
      "Finished los test O dataset\n"
     ]
    }
   ],
   "source": [
    "for task in tasks:\n",
    "    for dataset in datasets:\n",
    "        print(f\"Starting {task} {dataset} dataset\")\n",
    "        ts_pred = pd.read_csv(f'/data/wang/junh/results/Fuse_moe/all_{task}/labels/TS_{dataset}_results.csv')\n",
    "        text_pred = pd.read_csv(f'/data/wang/junh/results/Fuse_moe/all_{task}/labels/Text_{dataset}_results.csv')\n",
    "        multi_pred = pd.read_csv(f'/data/wang/junh/results/Fuse_moe/all_{task}/labels/TS_Text_{dataset}_results.csv')\n",
    "\n",
    "        all_pred = assign_pid_2probs(ts_pred, text_pred, multi_pred, 'TS', 'Text', threshold=0.3)\n",
    "        file_path = f'/data/wang/junh/datasets/multimodal/preprocessing/{dataset}_{task}-48-cxr-notes-ecg_stays.pkl'\n",
    "\n",
    "        for PID_label in PID_labels:\n",
    "            all_pred_PID = all_pred[all_pred['pid_label'] == PID_label]\n",
    "            new_pkl = reform_pkl_ids(file_path, all_pred_PID)\n",
    "            \n",
    "            f_path = f'/data/wang/junh/datasets/multimodal/pid_probs/2mod_0.3/TS_Text/{dataset}_{task}_{PID_label}_stays.pkl'\n",
    "            with open(f_path, 'wb') as f:\n",
    "                pickle.dump(new_pkl, f)\n",
    "            print(f\"Finished {task} {dataset} {PID_label} dataset\")"
   ]
  },
  {
   "cell_type": "code",
   "execution_count": 17,
   "metadata": {},
   "outputs": [
    {
     "name": "stdout",
     "output_type": "stream",
     "text": [
      "Starting ihm train dataset\n",
      "Matched list length:  3041\n",
      "Finished ihm train R dataset\n",
      "Matched list length:  583\n",
      "Finished ihm train O dataset\n",
      "Starting ihm val dataset\n",
      "Matched list length:  705\n",
      "Finished ihm val R dataset\n",
      "Matched list length:  71\n",
      "Finished ihm val O dataset\n",
      "Starting ihm test dataset\n",
      "Matched list length:  696\n",
      "Finished ihm test R dataset\n",
      "Matched list length:  80\n",
      "Finished ihm test O dataset\n",
      "Starting los train dataset\n",
      "Matched list length:  2223\n",
      "Finished los train R dataset\n",
      "Matched list length:  1401\n",
      "Finished los train O dataset\n",
      "Starting los val dataset\n",
      "Matched list length:  487\n",
      "Finished los val R dataset\n",
      "Matched list length:  289\n",
      "Finished los val O dataset\n",
      "Starting los test dataset\n",
      "Matched list length:  486\n",
      "Finished los test R dataset\n",
      "Matched list length:  290\n",
      "Finished los test O dataset\n"
     ]
    }
   ],
   "source": [
    "for task in tasks:\n",
    "    for dataset in datasets:\n",
    "        print(f\"Starting {task} {dataset} dataset\")\n",
    "        ts_pred = pd.read_csv(f'/data/wang/junh/results/Fuse_moe/all_{task}/labels/TS_{dataset}_results.csv')\n",
    "        cxr_pred = pd.read_csv(f'/data/wang/junh/results/Fuse_moe/all_{task}/labels/CXR_{dataset}_results.csv')\n",
    "        multi_pred = pd.read_csv(f'/data/wang/junh/results/Fuse_moe/all_{task}/labels/TS_CXR_{dataset}_results.csv')\n",
    "\n",
    "        all_pred = assign_pid_2probs(ts_pred, cxr_pred, multi_pred, 'TS', 'CXR', threshold=0.3)\n",
    "        file_path = f'/data/wang/junh/datasets/multimodal/preprocessing/{dataset}_{task}-48-cxr-notes-ecg_stays.pkl'\n",
    "\n",
    "        for PID_label in PID_labels:\n",
    "            all_pred_PID = all_pred[all_pred['pid_label'] == PID_label]\n",
    "            new_pkl = reform_pkl_ids(file_path, all_pred_PID)\n",
    "            \n",
    "            f_path = f'/data/wang/junh/datasets/multimodal/pid_probs/2mod_0.3/TS_CXR/{dataset}_{task}_{PID_label}_stays.pkl'\n",
    "            with open(f_path, 'wb') as f:\n",
    "                pickle.dump(new_pkl, f)\n",
    "            print(f\"Finished {task} {dataset} {PID_label} dataset\")"
   ]
  },
  {
   "cell_type": "markdown",
   "metadata": {},
   "source": [
    "# 3 modalities"
   ]
  },
  {
   "cell_type": "code",
   "execution_count": 14,
   "metadata": {},
   "outputs": [],
   "source": [
    "def assign_pid_3probs(ts_pred, text_pred, cxr_pred, multi_pred, threshold=0.2):\n",
    "    # Assuming 'Logits' columns are labeled distinctly after merge to avoid overwriting, e.g., 'Logits_TS', 'Logits_Text', etc.\n",
    "    df = ts_pred[['ids', 'Logits']].rename(columns={'Logits': 'TS'})\n",
    "    df = df.merge(text_pred[['ids', 'Logits']].rename(columns={'Logits': 'Text'}), on='ids')\n",
    "    df = df.merge(cxr_pred[['ids', 'Logits']].rename(columns={'Logits': 'CXR'}), on='ids')\n",
    "    df = df.merge(multi_pred[['ids', 'Logits']].rename(columns={'Logits': 'Multi'}), on='ids')\n",
    "\n",
    "    # Convert scalar probabilities to vectors of two probabilities\n",
    "    for column in df.columns:\n",
    "        if column != 'ids':\n",
    "            df[column] = df[column].apply(lambda p: [p, 1 - p])\n",
    "\n",
    "    # Calculate KL divergence between each modality and the multimodal distribution\n",
    "    for modality in ['TS', 'Text', 'CXR']:\n",
    "        df[f'kl_{modality}'] = df.apply(lambda row: entropy(np.array(row[modality]), np.array(row['Multi'])), axis=1)\n",
    "\n",
    "    # Define a function to assign PID labels based on KL divergence\n",
    "    def assign_pid_label(row):\n",
    "        if row['kl_TS'] < threshold and row['kl_Text'] < threshold and row['kl_CXR'] < threshold:\n",
    "            return 'R'\n",
    "        else:\n",
    "            return 'O'\n",
    "\n",
    "    # Apply the function to assign PID labels\n",
    "    df['pid_label'] = df.apply(assign_pid_label, axis=1)\n",
    "    print(\"Counts Table:\")\n",
    "    print(df['pid_label'].value_counts().reset_index(name='Count').rename(columns={'index': 'PID'}))\n",
    "\n",
    "    return df"
   ]
  },
  {
   "cell_type": "code",
   "execution_count": 16,
   "metadata": {},
   "outputs": [
    {
     "data": {
      "image/png": "[encoded data removed]",
      "text/plain": [
       "<Figure size 1440x360 with 3 Axes>"
      ]
     },
     "metadata": {
      "needs_background": "light"
     },
     "output_type": "display_data"
    }
   ],
   "source": [
    "# Plot histograms for each KL divergence column\n",
    "all_prob2[['kl_TS', 'kl_Text', 'kl_CXR']].hist(bins=20, layout=(1,3), figsize=(20, 5))\n",
    "plt.suptitle('Distribution of KL Divergence Values')\n",
    "plt.show()"
   ]
  },
  {
   "cell_type": "code",
   "execution_count": 15,
   "metadata": {},
   "outputs": [],
   "source": [
    "tasks = ['ihm', 'los']\n",
    "datasets = ['train', 'val', 'test']\n",
    "PID_labels = ['R', 'O']"
   ]
  },
  {
   "cell_type": "code",
   "execution_count": 16,
   "metadata": {},
   "outputs": [
    {
     "name": "stdout",
     "output_type": "stream",
     "text": [
      "Starting ihm train dataset\n",
      "Counts Table:\n",
      "  PID  Count\n",
      "0   O   1977\n",
      "1   R   1647\n",
      "Matched list length:  1647\n",
      "Finished ihm train R dataset\n",
      "Matched list length:  1977\n",
      "Finished ihm train O dataset\n",
      "Starting ihm val dataset\n",
      "Counts Table:\n",
      "  PID  Count\n",
      "0   R    480\n",
      "1   O    296\n",
      "Matched list length:  480\n",
      "Finished ihm val R dataset\n",
      "Matched list length:  296\n",
      "Finished ihm val O dataset\n",
      "Starting ihm test dataset\n",
      "Counts Table:\n",
      "  PID  Count\n",
      "0   R    455\n",
      "1   O    321\n",
      "Matched list length:  455\n",
      "Finished ihm test R dataset\n",
      "Matched list length:  321\n",
      "Finished ihm test O dataset\n",
      "Starting los train dataset\n",
      "Counts Table:\n",
      "  PID  Count\n",
      "0   O   2752\n",
      "1   R    872\n",
      "Matched list length:  872\n",
      "Finished los train R dataset\n",
      "Matched list length:  2752\n",
      "Finished los train O dataset\n",
      "Starting los val dataset\n",
      "Counts Table:\n",
      "  PID  Count\n",
      "0   O    567\n",
      "1   R    209\n",
      "Matched list length:  209\n",
      "Finished los val R dataset\n",
      "Matched list length:  567\n",
      "Finished los val O dataset\n",
      "Starting los test dataset\n",
      "Counts Table:\n",
      "  PID  Count\n",
      "0   O    547\n",
      "1   R    229\n",
      "Matched list length:  229\n",
      "Finished los test R dataset\n",
      "Matched list length:  547\n",
      "Finished los test O dataset\n"
     ]
    }
   ],
   "source": [
    "for task in tasks:\n",
    "    for dataset in datasets:\n",
    "        print(f\"Starting {task} {dataset} dataset\")\n",
    "        ts_pred = pd.read_csv(f'/data/wang/junh/results/Fuse_moe/all_{task}/labels/TS_{dataset}_results.csv')\n",
    "        text_pred = pd.read_csv(f'/data/wang/junh/results/Fuse_moe/all_{task}/labels/Text_{dataset}_results.csv')\n",
    "        cxr_pred = pd.read_csv(f'/data/wang/junh/results/Fuse_moe/all_{task}/labels/CXR_{dataset}_results.csv')\n",
    "        multi_pred = pd.read_csv(f'/data/wang/junh/results/Fuse_moe/all_{task}/labels/TS_CXR_Text_{dataset}_results.csv')\n",
    "\n",
    "        all_pred = assign_pid_3probs(ts_pred, text_pred, cxr_pred, multi_pred)\n",
    "        file_path = f'/data/wang/junh/datasets/multimodal/preprocessing/{dataset}_{task}-48-cxr-notes-ecg_stays.pkl'\n",
    "\n",
    "        for PID_label in PID_labels:\n",
    "            all_pred_PID = all_pred[all_pred['pid_label'] == PID_label]\n",
    "            new_pkl = reform_pkl_ids(file_path, all_pred_PID)\n",
    "            \n",
    "            f_path = f'/data/wang/junh/datasets/multimodal/pid_probs/3mod_0.2/{dataset}_{task}_{PID_label}_stays.pkl'\n",
    "            with open(f_path, 'wb') as f:\n",
    "                pickle.dump(new_pkl, f)\n",
    "            print(f\"Finished {task} {dataset} {PID_label} dataset\")"
   ]
  }
 ],
 "metadata": {
  "kernelspec": {
   "display_name": "fuse_env",
   "language": "python",
   "name": "python3"
  },
  "language_info": {
   "codemirror_mode": {
    "name": "ipython",
    "version": 3
   },
   "file_extension": ".py",
   "mimetype": "text/x-python",
   "name": "python",
   "nbconvert_exporter": "python",
   "pygments_lexer": "ipython3",
   "version": "3.8.19"
  }
 },
 "nbformat": 4,
 "nbformat_minor": 2
}
