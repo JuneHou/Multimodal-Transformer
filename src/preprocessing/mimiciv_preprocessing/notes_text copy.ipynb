{
 "cells": [
  {
   "cell_type": "code",
   "execution_count": 1,
   "metadata": {},
   "outputs": [],
   "source": [
    "# autoreload\n",
    "%load_ext autoreload\n",
    "%autoreload 2"
   ]
  },
  {
   "cell_type": "code",
   "execution_count": 2,
   "metadata": {},
   "outputs": [],
   "source": [
    "import os\n",
    "import pandas as pd\n",
    "from tqdm import tqdm"
   ]
  },
  {
   "cell_type": "code",
   "execution_count": 4,
   "metadata": {},
   "outputs": [],
   "source": [
    "mimic_iv_notes_parent = \"/data/wang/junh/datasets/physionet.org/files/mimic-iv-note/2.2/note\"\n",
    "mimic_iv_path = \"/data/wang/junh/datasets/physionet.org/files/mimiciv/2.2\"\n",
    "\n",
    "rad_notes_f_path = os.path.join(mimic_iv_notes_parent, \"radiology.csv.gz\")\n",
    "rad_notes_df = pd.read_csv(rad_notes_f_path, low_memory=False)\n",
    "rad_notes_df['charttime'] = pd.to_datetime(rad_notes_df['charttime'])\n",
    "rad_notes_df['storetime'] = pd.to_datetime(rad_notes_df['storetime'])\n",
    "\n",
    "icustays_df = pd.read_csv(os.path.join(mimic_iv_path, \"icu\", \"icustays.csv.gz\"), low_memory=False)\n",
    "icustays_df['intime'] = pd.to_datetime(icustays_df['intime'])\n",
    "icustays_df['outtime'] = pd.to_datetime(icustays_df['outtime'])\n",
    "\n",
    "admissions_df = pd.read_csv(os.path.join(mimic_iv_path, \"hosp\", \"admissions.csv.gz\"), low_memory=False)\n",
    "admissions_df['admittime'] = pd.to_datetime(admissions_df['admittime'])\n",
    "admissions_df['dischtime'] = pd.to_datetime(admissions_df['dischtime'])"
   ]
  },
  {
   "cell_type": "code",
   "execution_count": 6,
   "metadata": {},
   "outputs": [
    {
     "name": "stderr",
     "output_type": "stream",
     "text": [
      "  0%|          | 0/2321355 [00:00<?, ?it/s]"
     ]
    },
    {
     "name": "stderr",
     "output_type": "stream",
     "text": [
      "100%|██████████| 2321355/2321355 [42:41<00:00, 906.40it/s] \n"
     ]
    }
   ],
   "source": [
    "rad_notes_df['hadm_id'] = None\n",
    "rad_notes_df['stay_id'] = None\n",
    "rad_notes_df['icu_time_delta'] = None\n",
    "rad_notes_df['hosp_time_delta'] = None\n",
    "\n",
    "def calc_time_delta_hrs(icu_intime, charttime):\n",
    "    return (charttime - icu_intime).total_seconds() / 3600\n",
    "\n",
    "for index, row in tqdm(rad_notes_df.iterrows(), total=rad_notes_df.shape[0]):\n",
    "    curr_pts_icustays = icustays_df[icustays_df['subject_id'] == row['subject_id']]\n",
    "    \n",
    "    for icu_index, icu_row in curr_pts_icustays.iterrows():\n",
    "        if icu_row['intime'] <= row['charttime'] <= icu_row['outtime']:\n",
    "            rad_notes_df.loc[index, 'stay_id'] = icu_row['stay_id']\n",
    "            rad_notes_df.loc[index, 'icu_time_delta'] = calc_time_delta_hrs(icu_row['intime'], row['charttime'])\n",
    "    \n",
    "    curr_pts_admissions = admissions_df[admissions_df['subject_id'] == row['subject_id']]\n",
    "\n",
    "    for hosp_index, hosp_row in curr_pts_admissions.iterrows():\n",
    "        if hosp_row['admittime'] <= row['charttime'] <= hosp_row['dischtime']:\n",
    "            rad_notes_df.loc[index, 'hadm_id'] = hosp_row['hadm_id']\n",
    "            rad_notes_df.loc[index, 'hosp_time_delta'] = calc_time_delta_hrs(hosp_row['admittime'], row['charttime'])"
   ]
  },
  {
   "cell_type": "code",
   "execution_count": 5,
   "metadata": {},
   "outputs": [
    {
     "name": "stderr",
     "output_type": "stream",
     "text": [
      "100%|██████████| 2321355/2321355 [40:02<00:00, 966.32it/s] \n"
     ]
    }
   ],
   "source": [
    "rad_notes_df['hadm_id'] = None\n",
    "rad_notes_df['stay_id'] = None\n",
    "rad_notes_df['icu_time_delta'] = None\n",
    "rad_notes_df['hosp_time_delta'] = None\n",
    "\n",
    "def calc_time_delta_hrs(icu_intime, charttime):\n",
    "    return (charttime - icu_intime).total_seconds() / 3600\n",
    "\n",
    "for index, row in tqdm(rad_notes_df.iterrows(), total=rad_notes_df.shape[0]):\n",
    "    curr_pts_icustays = icustays_df[icustays_df['subject_id'] == row['subject_id']]\n",
    "    \n",
    "    for icu_index, icu_row in curr_pts_icustays.iterrows():\n",
    "        if icu_row['intime'] <= row['charttime'] <= icu_row['outtime']:\n",
    "            rad_notes_df.loc[index, 'stay_id'] = icu_row['stay_id']\n",
    "            rad_notes_df.loc[index, 'icu_time_delta'] = calc_time_delta_hrs(icu_row['intime'], row['charttime'])\n",
    "    \n",
    "    curr_pts_admissions = admissions_df[admissions_df['subject_id'] == row['subject_id']]\n",
    "\n",
    "    for hosp_index, hosp_row in curr_pts_admissions.iterrows():\n",
    "        if hosp_row['admittime'] <= row['charttime'] <= hosp_row['dischtime']:\n",
    "            rad_notes_df.loc[index, 'hadm_id'] = hosp_row['hadm_id']\n",
    "            rad_notes_df.loc[index, 'hosp_time_delta'] = calc_time_delta_hrs(hosp_row['admittime'], row['charttime'])"
   ]
  },
  {
   "cell_type": "code",
   "execution_count": 6,
   "metadata": {},
   "outputs": [
    {
     "name": "stdout",
     "output_type": "stream",
     "text": [
      "(2321355, 11)\n"
     ]
    }
   ],
   "source": [
    "mm_dir = \"/data/wang/junh/datasets/multimodal\"\n",
    "output_dir = os.path.join(mm_dir, \"preprocessing\")\n",
    "\n",
    "rad_notes_df.to_pickle(os.path.join(output_dir, \"notes_text.pkl\"))\n",
    "print(rad_notes_df.shape)"
   ]
  },
  {
   "cell_type": "code",
   "execution_count": 1,
   "metadata": {},
   "outputs": [
    {
     "ename": "NameError",
     "evalue": "name 'rad_notes_df' is not defined",
     "output_type": "error",
     "traceback": [
      "\u001b[0;31m---------------------------------------------------------------------------\u001b[0m",
      "\u001b[0;31mNameError\u001b[0m                                 Traceback (most recent call last)",
      "\u001b[0;32m<ipython-input-1-f6a4230f22cb>\u001b[0m in \u001b[0;36m<module>\u001b[0;34m\u001b[0m\n\u001b[0;32m----> 1\u001b[0;31m \u001b[0mrad_notes_df\u001b[0m\u001b[0;34m\u001b[0m\u001b[0;34m\u001b[0m\u001b[0m\n\u001b[0m",
      "\u001b[0;31mNameError\u001b[0m: name 'rad_notes_df' is not defined"
     ]
    }
   ],
   "source": [
    "rad_notes_df"
   ]
  }
 ],
 "metadata": {
  "kernelspec": {
   "display_name": "Python 3",
   "language": "python",
   "name": "python3"
  },
  "language_info": {
   "codemirror_mode": {
    "name": "ipython",
    "version": 3
   },
   "file_extension": ".py",
   "mimetype": "text/x-python",
   "name": "python",
   "nbconvert_exporter": "python",
   "pygments_lexer": "ipython3",
   "version": "3.8.19"
  }
 },
 "nbformat": 4,
 "nbformat_minor": 2
}
