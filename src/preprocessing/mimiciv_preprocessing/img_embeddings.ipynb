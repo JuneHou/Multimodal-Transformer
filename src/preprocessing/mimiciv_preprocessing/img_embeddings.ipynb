{
 "cells": [
  {
   "cell_type": "code",
   "execution_count": 1,
   "metadata": {},
   "outputs": [
    {
     "name": "stderr",
     "output_type": "stream",
     "text": [
      "/data/wang/junh/envs/fuse_env/lib/python3.8/site-packages/dask/dataframe/utils.py:374: FutureWarning: pandas.Int64Index is deprecated and will be removed from pandas in a future version. Use pandas.Index with the appropriate dtype instead.\n",
      "  _numeric_index_types = (pd.Int64Index, pd.Float64Index, pd.UInt64Index)\n",
      "/data/wang/junh/envs/fuse_env/lib/python3.8/site-packages/dask/dataframe/utils.py:374: FutureWarning: pandas.Float64Index is deprecated and will be removed from pandas in a future version. Use pandas.Index with the appropriate dtype instead.\n",
      "  _numeric_index_types = (pd.Int64Index, pd.Float64Index, pd.UInt64Index)\n",
      "/data/wang/junh/envs/fuse_env/lib/python3.8/site-packages/dask/dataframe/utils.py:374: FutureWarning: pandas.UInt64Index is deprecated and will be removed from pandas in a future version. Use pandas.Index with the appropriate dtype instead.\n",
      "  _numeric_index_types = (pd.Int64Index, pd.Float64Index, pd.UInt64Index)\n"
     ]
    },
    {
     "data": {
      "application/vnd.jupyter.widget-view+json": {
       "model_id": "50168e7c75294bc49222769763601966",
       "version_major": 2,
       "version_minor": 0
      },
      "text/plain": [
       "Downloading:   0%|          | 0.00/385 [00:00<?, ?B/s]"
      ]
     },
     "metadata": {},
     "output_type": "display_data"
    },
    {
     "data": {
      "application/vnd.jupyter.widget-view+json": {
       "model_id": "5bf820ae83634be88c9d596018c27125",
       "version_major": 2,
       "version_minor": 0
      },
      "text/plain": [
       "Downloading:   0%|          | 0.00/208k [00:00<?, ?B/s]"
      ]
     },
     "metadata": {},
     "output_type": "display_data"
    },
    {
     "data": {
      "application/vnd.jupyter.widget-view+json": {
       "model_id": "fde315f248d84f2db6b8f6ab1c0af22b",
       "version_major": 2,
       "version_minor": 0
      },
      "text/plain": [
       "Downloading:   0%|          | 0.00/416M [00:00<?, ?B/s]"
      ]
     },
     "metadata": {},
     "output_type": "display_data"
    },
    {
     "name": "stderr",
     "output_type": "stream",
     "text": [
      "/data/wang/junh/envs/fuse_env/lib/python3.8/site-packages/transformers/modeling_utils.py:1435: FutureWarning: You are using `torch.load` with `weights_only=False` (the current default value), which uses the default pickle module implicitly. It is possible to construct malicious pickle data which will execute arbitrary code during unpickling (See https://github.com/pytorch/pytorch/blob/main/SECURITY.md#untrusted-models for more details). In a future release, the default value for `weights_only` will be flipped to `True`. This limits the functions that could be executed during unpickling. Arbitrary objects will no longer be allowed to be loaded via this mode unless they are explicitly allowlisted by the user via `torch.serialization.add_safe_globals`. We recommend you start setting `weights_only=True` for any use case where you don't have full control of the loaded file. Please open an issue on GitHub for any issues related to this experimental feature.\n",
      "  state_dict = torch.load(resolved_archive_file, map_location=\"cpu\")\n"
     ]
    },
    {
     "data": {
      "application/vnd.jupyter.widget-view+json": {
       "model_id": "f72c5c0b0bf240af9fd366b32188061c",
       "version_major": 2,
       "version_minor": 0
      },
      "text/plain": [
       "Downloading:   0%|          | 0.00/347 [00:00<?, ?B/s]"
      ]
     },
     "metadata": {},
     "output_type": "display_data"
    },
    {
     "data": {
      "application/vnd.jupyter.widget-view+json": {
       "model_id": "2d856c399697496488c8eab62154ed49",
       "version_major": 2,
       "version_minor": 0
      },
      "text/plain": [
       "Downloading:   0%|          | 0.00/780k [00:00<?, ?B/s]"
      ]
     },
     "metadata": {},
     "output_type": "display_data"
    },
    {
     "data": {
      "application/vnd.jupyter.widget-view+json": {
       "model_id": "3e1e6e466dce47128eaa8581dd691124",
       "version_major": 2,
       "version_minor": 0
      },
      "text/plain": [
       "Downloading:   0%|          | 0.00/446k [00:00<?, ?B/s]"
      ]
     },
     "metadata": {},
     "output_type": "display_data"
    },
    {
     "data": {
      "application/vnd.jupyter.widget-view+json": {
       "model_id": "0ccef96f149046a5bb5c8876f721e5bd",
       "version_major": 2,
       "version_minor": 0
      },
      "text/plain": [
       "Downloading:   0%|          | 0.00/1.29M [00:00<?, ?B/s]"
      ]
     },
     "metadata": {},
     "output_type": "display_data"
    },
    {
     "data": {
      "application/vnd.jupyter.widget-view+json": {
       "model_id": "0d9a1d81d40d42ed8e49a6aad0091fe1",
       "version_major": 2,
       "version_minor": 0
      },
      "text/plain": [
       "Downloading:   0%|          | 0.00/239 [00:00<?, ?B/s]"
      ]
     },
     "metadata": {},
     "output_type": "display_data"
    },
    {
     "data": {
      "application/vnd.jupyter.widget-view+json": {
       "model_id": "2afc98b4a0d74adc972b4a0df9944edb",
       "version_major": 2,
       "version_minor": 0
      },
      "text/plain": [
       "Downloading:   0%|          | 0.00/929 [00:00<?, ?B/s]"
      ]
     },
     "metadata": {},
     "output_type": "display_data"
    },
    {
     "data": {
      "application/vnd.jupyter.widget-view+json": {
       "model_id": "d7ea80f246b647a0a4ea35c6e53e39a3",
       "version_major": 2,
       "version_minor": 0
      },
      "text/plain": [
       "Downloading:   0%|          | 0.00/567M [00:00<?, ?B/s]"
      ]
     },
     "metadata": {},
     "output_type": "display_data"
    }
   ],
   "source": [
    "import os\n",
    "import pandas as pd\n",
    "from MIMIC_IV_HAIM_API import *"
   ]
  },
  {
   "cell_type": "code",
   "execution_count": null,
   "metadata": {},
   "outputs": [
    {
     "ename": "",
     "evalue": "",
     "output_type": "error",
     "traceback": [
      "\u001b[1;31mnotebook controller is DISPOSED. \n",
      "\u001b[1;31mView Jupyter <a href='command:jupyter.viewOutput'>log</a> for further details."
     ]
    }
   ],
   "source": [
    "mimic_iv_cxr_parent = \"/data/wang/junh/datasets/physionet.org/files/mimic-cxr-jpg/2.0.0/mimic-cxr-jpg-2.1.0.physionet.org\"\n",
    "mm_dir = \"/data/wang/junh/datasets/multimodal\"\n",
    "\n",
    "output_dir = os.path.join(mm_dir, \"preprocessing\")\n",
    "os.makedirs(output_dir, exist_ok=True)"
   ]
  },
  {
   "cell_type": "code",
   "execution_count": 8,
   "metadata": {},
   "outputs": [],
   "source": [
    "f_path = os.path.join(mimic_iv_cxr_parent, \"mimic-cxr-2.0.0-metadata.csv.gz\")\n",
    "meta_data_df = pd.read_csv(f_path, low_memory=False)"
   ]
  },
  {
   "cell_type": "code",
   "execution_count": null,
   "metadata": {},
   "outputs": [],
   "source": [
    "meta_data_df"
   ]
  },
  {
   "cell_type": "code",
   "execution_count": null,
   "metadata": {},
   "outputs": [],
   "source": [
    "# meta_data_df = meta_data_df[:100]"
   ]
  },
  {
   "cell_type": "markdown",
   "metadata": {},
   "source": [
    "Extract densefeatures and predictions"
   ]
  },
  {
   "cell_type": "code",
   "execution_count": 12,
   "metadata": {},
   "outputs": [
    {
     "name": "stderr",
     "output_type": "stream",
     "text": [
      "100%|██████████| 377110/377110 [8:08:41<00:00, 12.86it/s]   \n"
     ]
    }
   ],
   "source": [
    "import torch\n",
    "import torch.nn.functional as F\n",
    "import skimage.io\n",
    "import cv2\n",
    "import os\n",
    "from tqdm import tqdm\n",
    "\n",
    "# Set batch size\n",
    "batch_size = 16\n",
    "\n",
    "meta_data_df['densefeatures'] = None\n",
    "meta_data_df['predictions'] = None\n",
    "\n",
    "model_weights_name = \"densenet121-res224-chex\" \n",
    "model = xrv.models.DenseNet(weights=model_weights_name).cuda()  # Load model and place on GPU\n",
    "\n",
    "# List to accumulate images and indices\n",
    "img_list = []\n",
    "index_list = []\n",
    "\n",
    "for index, row in tqdm(meta_data_df.iterrows(), total=meta_data_df.shape[0]):\n",
    "    curr_subject_id = int(row['subject_id'])\n",
    "    curr_study_id = int(row['study_id'])\n",
    "    curr_dicom_id = row['dicom_id']\n",
    "\n",
    "    f_subfolder = \"p\" + str(curr_subject_id)[0:2]\n",
    "    pt_folder = \"p\" + str(curr_subject_id)\n",
    "    s_folder = \"s\" + str(curr_study_id)\n",
    "    curr_f_path = os.path.join(mimic_iv_cxr_parent, 'files', f_subfolder, pt_folder, s_folder, curr_dicom_id + \".jpg\")\n",
    "\n",
    "    if os.path.exists(curr_f_path):\n",
    "        # Read and preprocess the image\n",
    "        img = skimage.io.imread(curr_f_path)\n",
    "        img = xrv.datasets.normalize(img, 255)\n",
    "        img = cv2.resize(img, (224, 224), interpolation=cv2.INTER_AREA)   \n",
    "        img = img[None, :, :]  # Add a channel dimension (ensure it's 3D)\n",
    "\n",
    "        # Append the image and index to the batch\n",
    "        img_list.append(img)\n",
    "        index_list.append(index)\n",
    "\n",
    "    # Process the batch when full or last batch\n",
    "    if len(img_list) == batch_size or index == meta_data_df.shape[0] - 1:\n",
    "        # Convert the list of images to a batch\n",
    "        img_batch = np.stack(img_list, axis=0)\n",
    "        img_batch = torch.from_numpy(img_batch).float().cuda()  # Ensure it's 4D and on GPU\n",
    "        \n",
    "        with torch.no_grad():\n",
    "            # Pass the batch through the model\n",
    "            feats = model.features(img_batch)\n",
    "            feats = F.relu(feats, inplace=True)\n",
    "            feats = F.adaptive_avg_pool2d(feats, (1, 1))\n",
    "            densefeatures_batch = feats.cpu().detach().numpy().reshape(len(img_list), -1)\n",
    "            \n",
    "            preds_batch = model(img_batch).cpu().detach().numpy()\n",
    "\n",
    "        # Store the results back in the DataFrame\n",
    "        for i, idx in enumerate(index_list):\n",
    "            meta_data_df.at[idx, 'densefeatures'] = densefeatures_batch[i]\n",
    "            meta_data_df.at[idx, 'predictions'] = preds_batch[i]\n",
    "        \n",
    "        # Clear the lists for the next batch\n",
    "        img_list = []\n",
    "        index_list = []\n",
    "\n"
   ]
  },
  {
   "cell_type": "code",
   "execution_count": null,
   "metadata": {},
   "outputs": [],
   "source": []
  },
  {
   "cell_type": "code",
   "execution_count": 16,
   "metadata": {},
   "outputs": [],
   "source": [
    "cols_to_drop = ['Unnamed: 0', 'Note_folder', 'Note_file', 'Note', 'Img_Folder',\\\n",
    "     'Img_Filename', 'Rows', 'Columns', 'StudyDate', 'StudyTime', 'StudyDateForm', \\\n",
    "        'StudyTimeForm']\n",
    "\n",
    "for col in cols_to_drop:\n",
    "    if col in meta_data_df.columns:\n",
    "        meta_data_df.drop(columns=[col], inplace=True)"
   ]
  },
  {
   "cell_type": "code",
   "execution_count": 17,
   "metadata": {},
   "outputs": [
    {
     "name": "stdout",
     "output_type": "stream",
     "text": [
      "/data/wang/junh/datasets/multimodal/preprocessing/cxr_embeddings.pkl\n"
     ]
    }
   ],
   "source": [
    "f_path = os.path.join(output_dir, \"cxr_embeddings.pkl\")\n",
    "meta_data_df.to_pickle(f_path)\n",
    "print(f_path)"
   ]
  },
  {
   "cell_type": "code",
   "execution_count": 15,
   "metadata": {},
   "outputs": [],
   "source": [
    "f_path = os.path.join(output_dir, \"cxr_embeddings.pkl\")\n",
    "df = pd.read_pickle(f_path)"
   ]
  }
 ],
 "metadata": {
  "kernelspec": {
   "display_name": "pid_env",
   "language": "python",
   "name": "python3"
  },
  "language_info": {
   "codemirror_mode": {
    "name": "ipython",
    "version": 3
   },
   "file_extension": ".py",
   "mimetype": "text/x-python",
   "name": "python",
   "nbconvert_exporter": "python",
   "pygments_lexer": "ipython3",
   "version": "3.11.10"
  }
 },
 "nbformat": 4,
 "nbformat_minor": 2
}
