{
 "cells": [
  {
   "cell_type": "code",
   "execution_count": 1,
   "metadata": {},
   "outputs": [],
   "source": [
    "import os\n",
    "import sys\n",
    "import numpy as np\n",
    "import pandas as pd\n",
    "from sklearn.preprocessing import StandardScaler\n",
    "from tqdm import tqdm"
   ]
  },
  {
   "cell_type": "code",
   "execution_count": 3,
   "metadata": {},
   "outputs": [],
   "source": [
    "notes_df = pd.read_pickle(\"/data/wang/junh/datasets/multimodal/preprocessing/icu_notes_text_embeddings.pkl\")"
   ]
  },
  {
   "cell_type": "code",
   "execution_count": 8,
   "metadata": {},
   "outputs": [
    {
     "name": "stderr",
     "output_type": "stream",
     "text": [
      "<ipython-input-8-7d1f982992ad>:1: FutureWarning: The error_bad_lines argument has been deprecated and will be removed in a future version. Use on_bad_lines in the future.\n",
      "\n",
      "\n",
      "  haim_df = pd.read_csv(\"/data/wang/junh/datasets/physionet.org/files/haim-multimodal/1.0.1/Extracted_HAIM_Embeddings/cxr_ic_fusion_1103.csv\", error_bad_lines=False)\n",
      "b'Skipping line 45052: expected 6405 fields, saw 7173\\nSkipping line 45053: expected 6405 fields, saw 7173\\n'\n"
     ]
    }
   ],
   "source": [
    "haim_df = pd.read_csv(\"/data/wang/junh/datasets/physionet.org/files/haim-multimodal/1.0.1/Extracted_HAIM_Embeddings/cxr_ic_fusion_1103.csv\", on_bad_lines=False)"
   ]
  },
  {
   "cell_type": "code",
   "execution_count": 5,
   "metadata": {},
   "outputs": [],
   "source": [
    "haim_key = pd.read_csv(\"/data/wang/junh/datasets/physionet.org/files/haim-multimodal/1.0.1/haim_mimiciv_key_ids.csv\")"
   ]
  },
  {
   "cell_type": "code",
   "execution_count": 7,
   "metadata": {},
   "outputs": [
    {
     "name": "stdout",
     "output_type": "stream",
     "text": [
      "      hadm_id     stay_id  subject_id\n",
      "0  29079034.0  39553978.0  10000032.0\n",
      "1  26913865.0  39765666.0  10000980.0\n",
      "2  24597018.0  37067082.0  10001217.0\n",
      "3  27703517.0  34592300.0  10001217.0\n",
      "4  26184834.0  37510196.0  10001884.0\n"
     ]
    }
   ],
   "source": [
    "print(haim_key.head())"
   ]
  },
  {
   "cell_type": "code",
   "execution_count": 16,
   "metadata": {},
   "outputs": [],
   "source": [
    "# Creating a list of column names for embeddings\n",
    "embedding_columns = [f'n_ecg_{i}' for i in range(768)]\n",
    "\n",
    "# Create the DataFrame with embeddings and set 'haim_key' as index\n",
    "df_ecg = pd.DataFrame({\n",
    "    'ecg_embed': haim_df[embedding_columns].values.tolist()\n",
    "}, index=haim_df[haim_key])"
   ]
  },
  {
   "cell_type": "code",
   "execution_count": 17,
   "metadata": {},
   "outputs": [],
   "source": [
    "# Creating a list of column names for embeddings\n",
    "embedding_columns = [f'n_ech_{i}' for i in range(768)]\n",
    "\n",
    "# Create the DataFrame with embeddings and set 'haim_key' as index\n",
    "df_echo = pd.DataFrame({\n",
    "    'echo_embed': haim_df[embedding_columns].values.tolist()\n",
    "}, index=haim_df[haim_key])"
   ]
  },
  {
   "cell_type": "code",
   "execution_count": 18,
   "metadata": {},
   "outputs": [],
   "source": [
    "# Creating a list of column names for embeddings\n",
    "embedding_columns = [f'n_rad_{i}' for i in range(768)]\n",
    "\n",
    "# Create the DataFrame with embeddings and set 'haim_key' as index\n",
    "df_rad = pd.DataFrame({\n",
    "    'rad_embed': haim_df[embedding_columns].values.tolist()\n",
    "}, index=haim_df[haim_key])"
   ]
  },
  {
   "cell_type": "code",
   "execution_count": 19,
   "metadata": {},
   "outputs": [],
   "source": [
    "df_ecg.to_csv(\"/data/wang/junh/datasets/physionet.org/files/haim-multimodal/1.0.1/Extracted_HAIM_Embeddings/ecg_embed.csv\")\n",
    "df_echo.to_csv(\"/data/wang/junh/datasets/physionet.org/files/haim-multimodal/1.0.1/Extracted_HAIM_Embeddings/echo_embed.csv\")\n",
    "df_rad.to_csv(\"/data/wang/junh/datasets/physionet.org/files/haim-multimodal/1.0.1/Extracted_HAIM_Embeddings/rad_embed.csv\")"
   ]
  },
  {
   "cell_type": "code",
   "execution_count": 11,
   "metadata": {},
   "outputs": [
    {
     "name": "stdout",
     "output_type": "stream",
     "text": [
      "Number of stays: 25069\n"
     ]
    }
   ],
   "source": [
    "unique_stays = notes_df['stay_id'].unique()\n",
    "unique_stays = np.intersect1d(unique_stays, haim_key['stay_id'].unique())\n",
    "print(f\"Number of stays: {len(unique_stays)}\")"
   ]
  },
  {
   "cell_type": "code",
   "execution_count": 12,
   "metadata": {},
   "outputs": [
    {
     "data": {
      "text/plain": [
       "Index(['note_id', 'subject_id', 'hadm_id', 'note_type', 'note_seq',\n",
       "       'charttime', 'storetime', 'text', 'stay_id', 'icu_time_delta',\n",
       "       'hosp_time_delta', 'biobert_embeddings'],\n",
       "      dtype='object')"
      ]
     },
     "execution_count": 12,
     "metadata": {},
     "output_type": "execute_result"
    }
   ],
   "source": [
    "notes_df.columns"
   ]
  },
  {
   "cell_type": "code",
   "execution_count": 20,
   "metadata": {},
   "outputs": [
    {
     "name": "stdout",
     "output_type": "stream",
     "text": [
      "34539\n"
     ]
    }
   ],
   "source": [
    "print(len(haim_key))"
   ]
  },
  {
   "cell_type": "code",
   "execution_count": 22,
   "metadata": {},
   "outputs": [
    {
     "name": "stdout",
     "output_type": "stream",
     "text": [
      "34539\n"
     ]
    }
   ],
   "source": [
    "print(len(haim_key['stay_id'].unique()))"
   ]
  }
 ],
 "metadata": {
  "kernelspec": {
   "display_name": "Python 3",
   "language": "python",
   "name": "python3"
  },
  "language_info": {
   "codemirror_mode": {
    "name": "ipython",
    "version": 3
   },
   "file_extension": ".py",
   "mimetype": "text/x-python",
   "name": "python",
   "nbconvert_exporter": "python",
   "pygments_lexer": "ipython3",
   "version": "3.8.19"
  }
 },
 "nbformat": 4,
 "nbformat_minor": 2
}
