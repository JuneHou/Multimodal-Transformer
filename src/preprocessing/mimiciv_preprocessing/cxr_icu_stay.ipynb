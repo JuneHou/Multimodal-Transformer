{
 "cells": [
  {
   "cell_type": "code",
   "execution_count": 53,
   "metadata": {},
   "outputs": [],
   "source": [
    "import os\n",
    "import pandas as pd\n",
    "\n",
    "mimic_iv_cxr_parent = \"/data/wang/junh/datasets/physionet.org/files/mimic-cxr-jpg/2.0.0\"\n",
    "\n",
    "mm_dir = \"/data/wang/junh/datasets/multimodal\"\n",
    "preprocessing_dir = os.path.join(mm_dir, \"preprocessing\")\n",
    "f_path = os.path.join(preprocessing_dir, \"cxr_embeddings.pkl\")"
   ]
  },
  {
   "cell_type": "code",
   "execution_count": 54,
   "metadata": {},
   "outputs": [
    {
     "name": "stdout",
     "output_type": "stream",
     "text": [
      "Index(['dicom_id', 'subject_id', 'study_id',\n",
      "       'PerformedProcedureStepDescription', 'ViewPosition',\n",
      "       'ProcedureCodeSequence_CodeMeaning', 'ViewCodeSequence_CodeMeaning',\n",
      "       'PatientOrientationCodeSequence_CodeMeaning', 'densefeatures',\n",
      "       'predictions'],\n",
      "      dtype='object')\n"
     ]
    }
   ],
   "source": [
    "cxr_df = pd.read_pickle(f_path)\n",
    "print(cxr_df.columns)"
   ]
  },
  {
   "cell_type": "code",
   "execution_count": 55,
   "metadata": {},
   "outputs": [],
   "source": [
    "mimic_iv_cxr_parent = \"/data/wang/junh/datasets/physionet.org/files/mimic-cxr-jpg/2.0.0/mimic-cxr-jpg-2.1.0.physionet.org\"\n",
    "f_path = os.path.join(mimic_iv_cxr_parent, \"mimic-cxr-2.0.0-metadata.csv.gz\")\n",
    "meta_data_df = pd.read_csv(f_path, low_memory=False)"
   ]
  },
  {
   "cell_type": "code",
   "execution_count": 56,
   "metadata": {},
   "outputs": [
    {
     "name": "stdout",
     "output_type": "stream",
     "text": [
      "Index(['dicom_id', 'subject_id', 'study_id',\n",
      "       'PerformedProcedureStepDescription', 'ViewPosition', 'Rows', 'Columns',\n",
      "       'StudyDate', 'StudyTime', 'ProcedureCodeSequence_CodeMeaning',\n",
      "       'ViewCodeSequence_CodeMeaning',\n",
      "       'PatientOrientationCodeSequence_CodeMeaning'],\n",
      "      dtype='object')\n"
     ]
    }
   ],
   "source": [
    "print(meta_data_df.columns)"
   ]
  },
  {
   "cell_type": "code",
   "execution_count": 57,
   "metadata": {},
   "outputs": [
    {
     "name": "stdout",
     "output_type": "stream",
     "text": [
      "                                       dicom_id  subject_id  study_id  \\\n",
      "0  02aa804e-bde0afdd-112c0b34-7bc16630-4e384014    10000032  50414267   \n",
      "1  174413ec-4ec4c1f7-34ea26b7-c5f994f8-79ef1962    10000032  50414267   \n",
      "2  2a2277a9-b0ded155-c0de8eb9-c124d10e-82c5caab    10000032  53189527   \n",
      "3  e084de3b-be89b11e-20fe3f9f-9c8d8dfe-4cfd202c    10000032  53189527   \n",
      "4  68b5c4b1-227d0485-9cc38c3f-7b84ab51-4b472714    10000032  53911762   \n",
      "\n",
      "  PerformedProcedureStepDescription ViewPosition  Rows  Columns  StudyDate  \\\n",
      "0                CHEST (PA AND LAT)           PA  3056     2544   21800506   \n",
      "1                CHEST (PA AND LAT)      LATERAL  3056     2544   21800506   \n",
      "2                CHEST (PA AND LAT)           PA  3056     2544   21800626   \n",
      "3                CHEST (PA AND LAT)      LATERAL  3056     2544   21800626   \n",
      "4               CHEST (PORTABLE AP)           AP  2705     2539   21800723   \n",
      "\n",
      "    StudyTime ProcedureCodeSequence_CodeMeaning ViewCodeSequence_CodeMeaning  \\\n",
      "0  213014.531                CHEST (PA AND LAT)             postero-anterior   \n",
      "1  213014.531                CHEST (PA AND LAT)                      lateral   \n",
      "2  165500.312                CHEST (PA AND LAT)             postero-anterior   \n",
      "3  165500.312                CHEST (PA AND LAT)                      lateral   \n",
      "4   80556.875               CHEST (PORTABLE AP)             antero-posterior   \n",
      "\n",
      "  PatientOrientationCodeSequence_CodeMeaning  \n",
      "0                                      Erect  \n",
      "1                                      Erect  \n",
      "2                                      Erect  \n",
      "3                                      Erect  \n",
      "4                                        NaN  \n"
     ]
    }
   ],
   "source": [
    "print(meta_data_df.head())"
   ]
  },
  {
   "cell_type": "code",
   "execution_count": 64,
   "metadata": {},
   "outputs": [],
   "source": [
    "cxr_embeddings_df = cxr_df.merge(meta_data_df[['dicom_id', 'StudyDate', 'StudyTime']], on='dicom_id', how='left')"
   ]
  },
  {
   "cell_type": "code",
   "execution_count": 65,
   "metadata": {},
   "outputs": [
    {
     "name": "stdout",
     "output_type": "stream",
     "text": [
      "        StudyDate StudyTime             cxrtime\n",
      "0      2180-05-06  21:30:15 2180-05-06 21:30:15\n",
      "1      2180-05-06  21:30:15 2180-05-06 21:30:15\n",
      "2      2180-06-26  16:55:00 2180-06-26 16:55:00\n",
      "3      2180-06-26  16:55:00 2180-06-26 16:55:00\n",
      "4      2180-07-23  08:05:57 2180-07-23 08:05:57\n",
      "...           ...       ...                 ...\n",
      "377105 2152-07-08  22:45:50 2152-07-08 22:45:50\n",
      "377106 2152-07-08  22:45:50 2152-07-08 22:45:50\n",
      "377107 2145-11-04  05:14:48 2145-11-04 05:14:48\n",
      "377108 2145-11-02  20:28:09 2145-11-02 20:28:09\n",
      "377109 2145-11-03  05:05:08 2145-11-03 05:05:08\n",
      "\n",
      "[377110 rows x 3 columns]\n"
     ]
    }
   ],
   "source": [
    "# Convert StudyDate to a string format (YYYY-MM-DD)\n",
    "cxr_embeddings_df['StudyDate'] = pd.to_datetime(cxr_embeddings_df['StudyDate'].astype(str), format='%Y%m%d')\n",
    "\n",
    "# Function to format StudyTime into HH:MM:SS and handle the 60-second case\n",
    "def format_study_time(study_time):\n",
    "    # Convert StudyTime to a six-digit time (HHMMSS) without fractional seconds\n",
    "    study_time_str = '{:06.0f}'.format(study_time)  # Ensure it has 6 digits and no decimals\n",
    "    hours = int(study_time_str[:2])\n",
    "    minutes = int(study_time_str[2:4])\n",
    "    seconds = int(study_time_str[4:6])\n",
    "    \n",
    "    # Handle cases where seconds are 60 by incrementing the minutes and resetting seconds to 00\n",
    "    if seconds >= 60:\n",
    "        seconds = 0\n",
    "        minutes += 1\n",
    "        \n",
    "        # Handle overflow for minutes (i.e., if minutes become 60)\n",
    "        if minutes >= 60:\n",
    "            minutes = 0\n",
    "            hours += 1\n",
    "            \n",
    "            # Handle overflow for hours (i.e., if hours become 24)\n",
    "            if hours >= 24:\n",
    "                hours = 0\n",
    "\n",
    "    return f\"{hours:02}:{minutes:02}:{seconds:02}\"\n",
    "\n",
    "# Apply the formatting function to the StudyTime column\n",
    "cxr_embeddings_df['StudyTime'] = cxr_embeddings_df['StudyTime'].apply(format_study_time)\n",
    "\n",
    "# Combine StudyDate and StudyTime into a single datetime column\n",
    "cxr_embeddings_df['cxrtime'] = pd.to_datetime(cxr_embeddings_df['StudyDate'].astype(str) + ' ' + cxr_embeddings_df['StudyTime'])\n",
    "\n",
    "# Display the resulting dataframe\n",
    "print(cxr_embeddings_df[['StudyDate', 'StudyTime', 'cxrtime']])"
   ]
  },
  {
   "cell_type": "code",
   "execution_count": 66,
   "metadata": {},
   "outputs": [],
   "source": [
    "cxr_embeddings_df['cxrtime'] = pd.to_datetime(cxr_embeddings_df['cxrtime'])\n",
    "\n",
    "mimic_iv_path = \"/data/wang/junh/datasets/physionet.org/files/mimiciv/2.2\"\n",
    "icustays_df = pd.read_csv(os.path.join(mimic_iv_path, \"icu\", \"icustays.csv.gz\"), low_memory=False)\n",
    "icustays_df['intime'] = pd.to_datetime(icustays_df['intime'])\n",
    "icustays_df['outtime'] = pd.to_datetime(icustays_df['outtime'])\n",
    "\n",
    "admissions_df = pd.read_csv(os.path.join(mimic_iv_path, \"hosp\", \"admissions.csv.gz\"), low_memory=False)\n",
    "admissions_df['admittime'] = pd.to_datetime(admissions_df['admittime'])\n",
    "admissions_df['dischtime'] = pd.to_datetime(admissions_df['dischtime'])"
   ]
  },
  {
   "cell_type": "code",
   "execution_count": 67,
   "metadata": {},
   "outputs": [
    {
     "name": "stdout",
     "output_type": "stream",
     "text": [
      "                                       dicom_id  subject_id  study_id  \\\n",
      "0  02aa804e-bde0afdd-112c0b34-7bc16630-4e384014    10000032  50414267   \n",
      "1  174413ec-4ec4c1f7-34ea26b7-c5f994f8-79ef1962    10000032  50414267   \n",
      "2  2a2277a9-b0ded155-c0de8eb9-c124d10e-82c5caab    10000032  53189527   \n",
      "3  e084de3b-be89b11e-20fe3f9f-9c8d8dfe-4cfd202c    10000032  53189527   \n",
      "4  68b5c4b1-227d0485-9cc38c3f-7b84ab51-4b472714    10000032  53911762   \n",
      "\n",
      "  PerformedProcedureStepDescription ViewPosition  \\\n",
      "0                CHEST (PA AND LAT)           PA   \n",
      "1                CHEST (PA AND LAT)      LATERAL   \n",
      "2                CHEST (PA AND LAT)           PA   \n",
      "3                CHEST (PA AND LAT)      LATERAL   \n",
      "4               CHEST (PORTABLE AP)           AP   \n",
      "\n",
      "  ProcedureCodeSequence_CodeMeaning ViewCodeSequence_CodeMeaning  \\\n",
      "0                CHEST (PA AND LAT)             postero-anterior   \n",
      "1                CHEST (PA AND LAT)                      lateral   \n",
      "2                CHEST (PA AND LAT)             postero-anterior   \n",
      "3                CHEST (PA AND LAT)                      lateral   \n",
      "4               CHEST (PORTABLE AP)             antero-posterior   \n",
      "\n",
      "  PatientOrientationCodeSequence_CodeMeaning  \\\n",
      "0                                      Erect   \n",
      "1                                      Erect   \n",
      "2                                      Erect   \n",
      "3                                      Erect   \n",
      "4                                        NaN   \n",
      "\n",
      "                                       densefeatures  \\\n",
      "0  [0.0, 0.0, 0.18388367, 0.007851061, 0.02494917...   \n",
      "1  [0.0, 0.0018271109, 0.09796817, 0.008527788, 0...   \n",
      "2  [0.0006264743, 0.0006303258, 0.15093562, 0.003...   \n",
      "3  [0.0, 0.013507526, 0.1506361, 0.001936649, 0.2...   \n",
      "4  [0.0029043574, 0.008017497, 0.14701562, 0.0136...   \n",
      "\n",
      "                                         predictions  StudyDate StudyTime  \\\n",
      "0  [0.2118924, 0.15328425, 0.5, 0.04550762, 0.296... 2180-05-06  21:30:15   \n",
      "1  [0.5157511, 0.5113002, 0.5, 0.16809721, 0.5129... 2180-05-06  21:30:15   \n",
      "2  [0.16325668, 0.07555343, 0.5, 0.08735247, 0.07... 2180-06-26  16:55:00   \n",
      "3  [0.29774955, 0.36941555, 0.5, 0.10612607, 0.32... 2180-06-26  16:55:00   \n",
      "4  [0.26949072, 0.0940042, 0.5, 0.08373136, 0.187... 2180-07-23  08:05:57   \n",
      "\n",
      "              cxrtime  \n",
      "0 2180-05-06 21:30:15  \n",
      "1 2180-05-06 21:30:15  \n",
      "2 2180-06-26 16:55:00  \n",
      "3 2180-06-26 16:55:00  \n",
      "4 2180-07-23 08:05:57  \n"
     ]
    }
   ],
   "source": [
    "print(cxr_embeddings_df.head())"
   ]
  },
  {
   "cell_type": "code",
   "execution_count": 68,
   "metadata": {},
   "outputs": [],
   "source": [
    "cxr_embeddings_df = cxr_embeddings_df.drop(columns=['StudyDate', 'StudyTime'])"
   ]
  },
  {
   "cell_type": "code",
   "execution_count": 69,
   "metadata": {},
   "outputs": [
    {
     "name": "stderr",
     "output_type": "stream",
     "text": [
      "100%|██████████| 377110/377110 [09:09<00:00, 686.12it/s]\n"
     ]
    }
   ],
   "source": [
    "from tqdm import tqdm\n",
    "\n",
    "def calc_time_delta_hrs(icu_intime, charttime):\n",
    "    return (charttime - icu_intime).total_seconds() / 3600\n",
    "\n",
    "cxr_embeddings_df['hadm_id'] = None\n",
    "cxr_embeddings_df['stay_id'] = None\n",
    "cxr_embeddings_df['icu_time_delta'] = None\n",
    "cxr_embeddings_df['hosp_time_delta'] = None\n",
    "\n",
    "for index, row in tqdm(cxr_embeddings_df.iterrows(), total=cxr_embeddings_df.shape[0]):\n",
    "    curr_pts_icustays = icustays_df[icustays_df['subject_id'] == row['subject_id']]\n",
    "    \n",
    "    for icu_index, icu_row in curr_pts_icustays.iterrows():\n",
    "        if icu_row['intime'] <= row['cxrtime'] <= icu_row['outtime']:\n",
    "            cxr_embeddings_df.loc[index, 'stay_id'] = icu_row['stay_id']\n",
    "            cxr_embeddings_df.loc[index, 'icu_time_delta'] = calc_time_delta_hrs(icu_row['intime'], row['cxrtime'])\n",
    "    \n",
    "    curr_pts_admissions = admissions_df[admissions_df['subject_id'] == row['subject_id']]\n",
    "\n",
    "    for hosp_index, hosp_row in curr_pts_admissions.iterrows():\n",
    "        if hosp_row['admittime'] <= row['cxrtime'] <= hosp_row['dischtime']:\n",
    "            cxr_embeddings_df.loc[index, 'hadm_id'] = hosp_row['hadm_id']\n",
    "            cxr_embeddings_df.loc[index, 'hosp_time_delta'] = calc_time_delta_hrs(hosp_row['admittime'], row['cxrtime'])"
   ]
  },
  {
   "cell_type": "code",
   "execution_count": 70,
   "metadata": {},
   "outputs": [],
   "source": [
    "cxr_embeddings_df.to_pickle(os.path.join(preprocessing_dir, \"cxr_embeddings_stay.pkl\"))"
   ]
  },
  {
   "cell_type": "code",
   "execution_count": 71,
   "metadata": {},
   "outputs": [
    {
     "data": {
      "text/plain": [
       "0.8424465010209222"
      ]
     },
     "execution_count": 71,
     "metadata": {},
     "output_type": "execute_result"
    }
   ],
   "source": [
    "cxr_embeddings_df['stay_id'].isna().mean()"
   ]
  },
  {
   "cell_type": "code",
   "execution_count": 72,
   "metadata": {},
   "outputs": [],
   "source": [
    "cxr_embeddings_df = pd.read_pickle(os.path.join(preprocessing_dir, \"cxr_embeddings_stay.pkl\"))"
   ]
  }
 ],
 "metadata": {
  "kernelspec": {
   "display_name": ".venv",
   "language": "python",
   "name": "python3"
  },
  "language_info": {
   "codemirror_mode": {
    "name": "ipython",
    "version": 3
   },
   "file_extension": ".py",
   "mimetype": "text/x-python",
   "name": "python",
   "nbconvert_exporter": "python",
   "pygments_lexer": "ipython3",
   "version": "3.8.19"
  }
 },
 "nbformat": 4,
 "nbformat_minor": 2
}
